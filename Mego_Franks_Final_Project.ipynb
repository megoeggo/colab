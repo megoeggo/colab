{
  "nbformat": 4,
  "nbformat_minor": 0,
  "metadata": {
    "colab": {
      "provenance": [],
      "include_colab_link": true
    },
    "kernelspec": {
      "name": "python3",
      "display_name": "Python 3"
    },
    "language_info": {
      "name": "python"
    }
  },
  "cells": [
    {
      "cell_type": "markdown",
      "metadata": {
        "id": "view-in-github",
        "colab_type": "text"
      },
      "source": [
        "<a href=\"https://colab.research.google.com/github/megoeggo/colab/blob/main/Mego_Franks_Final_Project.ipynb\" target=\"_parent\"><img src=\"https://colab.research.google.com/assets/colab-badge.svg\" alt=\"Open In Colab\"/></a>"
      ]
    },
    {
      "cell_type": "markdown",
      "source": [
        "# Final Project\n",
        "Choose one of the research briefs options below to focus on for this final project:\n",
        "\n",
        "1. [Public Awareness of Alcohol  as a Risk Factor for Cancer](https://hints.cancer.gov/docs/Briefs/HINTS_Brief_47.pdf)\n",
        "\n",
        "Use this dataset to complete the following steps:\n",
        "\n",
        "https://drive.google.com/file/d/1c7Nv3xTjGsYpHlT5oXPFfXurmDbl1AlB/view?usp=sharing\n",
        "\n",
        "1. First, read through the brief you've chosen.\n",
        "2. Next, using what you have learned about cleaning data and creating visualizations, reproduce one of the data visualizations included in your brief. Use the Python libraries we discussed in class for this project (Pandas, matplotlib), though you can also use other libraries as needed. Try to recreate it as faithfully as possible (using the same ranges, numbers, and general layout).\n",
        "3. Then, create another visualization based on a different demographic variable of your choice from the data. This visualization should relate generally to the topic of your brief, but should investigate a new aspect of it from the HINTS dataset. For example, if there was hypothetically a brief about age, amount of weekly exercise, and heart disease, for your final project you could investigate age, amount of exercise, and BMI category for respondents.\n",
        "4. Finally, write a reflection about this project (see reflection prompts below).\n",
        "\n",
        "If needed, you can find the codebook for this dataset here:\n",
        "\n",
        "https://hints.cancer.gov/data/survey-instruments.aspx#H5C4\n",
        "\n",
        "And you can download the original data here:\n",
        "\n",
        "https://hints.cancer.gov/data/Default.aspx\n"
      ],
      "metadata": {
        "id": "TGTe8AvZ1lXW"
      }
    },
    {
      "cell_type": "markdown",
      "source": [
        "# Recreate a visualization\n",
        "\n",
        "Insert your code into the code box below to recreate a visualization from your brief. Make sure to comment your code!"
      ],
      "metadata": {
        "id": "h56cHFewiGBu"
      }
    },
    {
      "cell_type": "code",
      "execution_count": null,
      "metadata": {
        "id": "6HFJk8Xy1fUv",
        "colab": {
          "base_uri": "https://localhost:8080/"
        },
        "outputId": "8eba5ee1-c40b-4bda-9236-bbccb4f75646"
      },
      "outputs": [
        {
          "output_type": "stream",
          "name": "stdout",
          "text": [
            "Requirement already satisfied: seaborn in /usr/local/lib/python3.10/dist-packages (0.12.2)\n",
            "Requirement already satisfied: numpy!=1.24.0,>=1.17 in /usr/local/lib/python3.10/dist-packages (from seaborn) (1.23.5)\n",
            "Requirement already satisfied: pandas>=0.25 in /usr/local/lib/python3.10/dist-packages (from seaborn) (1.5.3)\n",
            "Requirement already satisfied: matplotlib!=3.6.1,>=3.1 in /usr/local/lib/python3.10/dist-packages (from seaborn) (3.7.1)\n",
            "Requirement already satisfied: contourpy>=1.0.1 in /usr/local/lib/python3.10/dist-packages (from matplotlib!=3.6.1,>=3.1->seaborn) (1.1.1)\n",
            "Requirement already satisfied: cycler>=0.10 in /usr/local/lib/python3.10/dist-packages (from matplotlib!=3.6.1,>=3.1->seaborn) (0.12.1)\n",
            "Requirement already satisfied: fonttools>=4.22.0 in /usr/local/lib/python3.10/dist-packages (from matplotlib!=3.6.1,>=3.1->seaborn) (4.43.1)\n",
            "Requirement already satisfied: kiwisolver>=1.0.1 in /usr/local/lib/python3.10/dist-packages (from matplotlib!=3.6.1,>=3.1->seaborn) (1.4.5)\n",
            "Requirement already satisfied: packaging>=20.0 in /usr/local/lib/python3.10/dist-packages (from matplotlib!=3.6.1,>=3.1->seaborn) (23.2)\n",
            "Requirement already satisfied: pillow>=6.2.0 in /usr/local/lib/python3.10/dist-packages (from matplotlib!=3.6.1,>=3.1->seaborn) (9.4.0)\n",
            "Requirement already satisfied: pyparsing>=2.3.1 in /usr/local/lib/python3.10/dist-packages (from matplotlib!=3.6.1,>=3.1->seaborn) (3.1.1)\n",
            "Requirement already satisfied: python-dateutil>=2.7 in /usr/local/lib/python3.10/dist-packages (from matplotlib!=3.6.1,>=3.1->seaborn) (2.8.2)\n",
            "Requirement already satisfied: pytz>=2020.1 in /usr/local/lib/python3.10/dist-packages (from pandas>=0.25->seaborn) (2023.3.post1)\n",
            "Requirement already satisfied: six>=1.5 in /usr/local/lib/python3.10/dist-packages (from python-dateutil>=2.7->matplotlib!=3.6.1,>=3.1->seaborn) (1.16.0)\n"
          ]
        }
      ],
      "source": [
        "# code for recreating a visualization\n",
        "\n",
        "# first import libraries\n",
        "\n",
        "!pip install seaborn\n",
        "import pandas as pd\n",
        "import numpy as np\n",
        "import seaborn as sns\n",
        "import matplotlib.pyplot as plt\n",
        "import matplotlib as mpl\n",
        "from matplotlib import style"
      ]
    },
    {
      "cell_type": "code",
      "source": [
        "# now import data\n",
        "\n",
        "hints_data_raw = pd.read_csv(\"/content/hints5_cycle4_final_project.csv\")"
      ],
      "metadata": {
        "id": "0Vpnyd_VWMBP"
      },
      "execution_count": null,
      "outputs": []
    },
    {
      "cell_type": "code",
      "source": [
        "# create a subset of the data to look at just the average drinks per week column\n",
        "\n",
        "hints_data_drinks = hints_data_raw[[\"AvgDrinksPerWeek\"]]"
      ],
      "metadata": {
        "id": "G1aevs7Z5otY"
      },
      "execution_count": null,
      "outputs": []
    },
    {
      "cell_type": "code",
      "source": [
        "# replace all missing data with a negative number, so it will work with a numeric loop\n",
        "\n",
        "hints_data_drinks = hints_data_drinks.apply(lambda x: x.replace({\"^.*Missing Data.*$\":-1}, regex=True))\n",
        "\n"
      ],
      "metadata": {
        "id": "gAYMC8kdLTBB"
      },
      "execution_count": null,
      "outputs": []
    },
    {
      "cell_type": "code",
      "source": [
        "# also turn the data type to numeric so that the loop works\n",
        "\n",
        "hints_data_drinks = hints_data_drinks.apply(pd.to_numeric, errors='coerce')\n",
        "\n",
        "hints_data_drinks.dtypes"
      ],
      "metadata": {
        "colab": {
          "base_uri": "https://localhost:8080/"
        },
        "id": "lvnU3cxKL8nx",
        "outputId": "30cecc26-f157-49db-8d8a-596a287c4f4c"
      },
      "execution_count": null,
      "outputs": [
        {
          "output_type": "execute_result",
          "data": {
            "text/plain": [
              "AvgDrinksPerWeek    float64\n",
              "dtype: object"
            ]
          },
          "metadata": {},
          "execution_count": 9
        }
      ]
    },
    {
      "cell_type": "code",
      "source": [
        "# define the aforementioned loop - this will turn the data into the ranges seen in the infographic; 0 drinks a week, 1-10 drinks a week, etc.\n",
        "\n",
        "def drink_ranges(AvgDrinksPerWeek):\n",
        "  if AvgDrinksPerWeek == 0:\n",
        "    return \"0\"\n",
        "  if AvgDrinksPerWeek >= 1 and AvgDrinksPerWeek <= 10:\n",
        "    return \"1-10\"\n",
        "  if AvgDrinksPerWeek >= 11 and AvgDrinksPerWeek <= 20:\n",
        "    return \"11-20\"\n",
        "  if AvgDrinksPerWeek >= 21 and AvgDrinksPerWeek <=30:\n",
        "    return \"21-30\"\n",
        "  if AvgDrinksPerWeek >= 31:\n",
        "    return \"31+\"\n",
        "  else:\n",
        "    return \"Missing Data\"\n"
      ],
      "metadata": {
        "id": "tiQKfe1eCoGs"
      },
      "execution_count": null,
      "outputs": []
    },
    {
      "cell_type": "code",
      "source": [
        "# this for loop does the work of turning the data points into their assigned ranges\n",
        "\n",
        "ranges_list = []\n",
        "for categ in hints_data_drinks.AvgDrinksPerWeek.items():\n",
        "  ranges_list.append(drink_ranges(categ[1]))\n",
        "\n",
        "print(ranges_list)"
      ],
      "metadata": {
        "colab": {
          "base_uri": "https://localhost:8080/"
        },
        "id": "PqcgWBfBMDox",
        "outputId": "c65dfcd9-ef38-4dd6-ba52-b9408c644830"
      },
      "execution_count": null,
      "outputs": [
        {
          "output_type": "stream",
          "name": "stdout",
          "text": [
            "['11-20', '0', '1-10', '1-10', '0', '1-10', '1-10', '0', '1-10', '0', '1-10', '1-10', '11-20', '0', '0', '1-10', '0', '1-10', 'Missing Data', '0', '1-10', '1-10', '0', '0', '1-10', '1-10', '1-10', '0', '0', '1-10', '0', '0', '1-10', '0', '0', '0', '11-20', '0', '1-10', '0', '1-10', '11-20', '1-10', '0', '1-10', '0', '1-10', '0', '0', '0', '0', '0', '1-10', '0', '0', '0', '1-10', '1-10', '0', '1-10', '0', 'Missing Data', '0', '1-10', '1-10', '1-10', '0', '11-20', '1-10', '0', '1-10', '0', '0', '1-10', '0', '1-10', '1-10', '0', '1-10', '1-10', '0', '0', '1-10', '0', '1-10', '1-10', '0', '0', '0', '1-10', '1-10', '1-10', '0', '0', '11-20', '0', '0', '0', '0', 'Missing Data', '1-10', '0', '0', '0', 'Missing Data', '11-20', '0', 'Missing Data', '0', '0', '1-10', '1-10', '11-20', '0', '11-20', '0', '0', '21-30', '0', '0', '1-10', '1-10', '0', '1-10', '0', '0', '0', '0', '0', '0', '0', '1-10', '1-10', '1-10', '1-10', '1-10', '0', '0', '0', '0', '1-10', 'Missing Data', '0', '0', '0', '1-10', '0', '1-10', '0', '0', '1-10', '0', '1-10', '21-30', '1-10', '0', '0', 'Missing Data', '0', '0', '1-10', '1-10', '1-10', '0', '1-10', '0', '1-10', '1-10', '0', '0', '0', '0', '1-10', '0', '0', '0', 'Missing Data', '0', '0', '0', '0', '0', '0', '0', '0', '0', '0', '0', '0', '0', '1-10', 'Missing Data', '0', '0', '0', '1-10', '0', '0', '0', '0', 'Missing Data', '0', '0', 'Missing Data', '0', 'Missing Data', '0', '1-10', '1-10', '1-10', '1-10', '0', '0', '0', '0', '0', '0', '0', '0', 'Missing Data', '0', '0', '0', '0', '0', '1-10', '0', '11-20', 'Missing Data', '1-10', '1-10', 'Missing Data', '0', '0', 'Missing Data', 'Missing Data', 'Missing Data', '0', '0', 'Missing Data', '1-10', '11-20', '0', '1-10', '1-10', '0', '0', '0', '1-10', '1-10', '0', '0', '0', '0', '0', '1-10', '0', '0', '0', 'Missing Data', '1-10', '0', '11-20', '0', '0', '0', '1-10', '1-10', '1-10', 'Missing Data', '1-10', '1-10', 'Missing Data', '0', '0', '1-10', '1-10', '1-10', '1-10', '0', '0', '21-30', '1-10', '0', '0', '1-10', '11-20', 'Missing Data', '0', '11-20', 'Missing Data', '1-10', 'Missing Data', '0', '0', '1-10', '0', '1-10', '21-30', '1-10', '0', '0', '1-10', '0', '31+', '1-10', '0', '0', '0', '1-10', '11-20', '0', '0', '11-20', 'Missing Data', '1-10', 'Missing Data', 'Missing Data', '1-10', '1-10', '1-10', '1-10', '0', '1-10', 'Missing Data', '0', '0', '11-20', '1-10', '0', '1-10', '0', '1-10', '0', '1-10', '0', '1-10', '0', '1-10', '0', '1-10', '0', '0', 'Missing Data', '0', '1-10', '31+', '0', '1-10', '0', '0', '0', '1-10', 'Missing Data', 'Missing Data', '0', '0', '0', '0', '1-10', '0', '1-10', '0', 'Missing Data', '0', '1-10', '0', '0', '0', '1-10', '0', '21-30', '0', '11-20', '0', '0', '0', '21-30', '0', '0', '21-30', '11-20', '0', '1-10', '0', '1-10', '0', 'Missing Data', '11-20', '0', '0', 'Missing Data', '1-10', '0', '0', '0', '1-10', '1-10', '0', '0', '0', '0', '0', '0', '0', '0', '0', '0', '0', '0', '1-10', '1-10', 'Missing Data', '1-10', '1-10', '0', 'Missing Data', '0', 'Missing Data', '11-20', '0', '0', '1-10', 'Missing Data', '0', '0', '0', '21-30', '1-10', 'Missing Data', '0', '0', '0', '0', '0', '0', '0', '1-10', '1-10', '0', '0', '0', '1-10', '0', '0', '0', '0', '1-10', '0', '1-10', '0', '0', '0', '0', '1-10', 'Missing Data', '0', '0', '0', '0', '1-10', 'Missing Data', 'Missing Data', '0', '0', '0', 'Missing Data', '0', '0', '1-10', 'Missing Data', '1-10', '0', 'Missing Data', '11-20', '0', '31+', 'Missing Data', '0', '0', '0', '0', '1-10', '0', '1-10', 'Missing Data', '0', '11-20', 'Missing Data', '0', '1-10', 'Missing Data', '1-10', '0', '0', '0', '0', '1-10', '0', '0', '1-10', '1-10', '0', '0', '1-10', 'Missing Data', '0', 'Missing Data', '0', '0', '0', '1-10', '1-10', '0', '0', '1-10', '0', '0', '1-10', '0', '0', '0', '0', '0', '0', '0', 'Missing Data', '0', '0', '1-10', '0', '0', '1-10', '1-10', '0', '1-10', '0', '1-10', '0', '0', '0', '0', '1-10', '1-10', '21-30', 'Missing Data', '0', '0', '1-10', '0', '11-20', '1-10', '0', '0', 'Missing Data', '0', '0', '0', '0', '0', '0', '0', '0', '0', '1-10', '1-10', 'Missing Data', '1-10', '1-10', '1-10', '0', '1-10', '1-10', '1-10', '0', '0', '0', '0', '0', '1-10', 'Missing Data', '0', '0', '0', 'Missing Data', 'Missing Data', '0', 'Missing Data', 'Missing Data', '0', '11-20', '0', '0', '1-10', '0', '21-30', 'Missing Data', '1-10', '1-10', '0', '0', '0', '0', 'Missing Data', '0', '0', '0', '0', 'Missing Data', '1-10', '0', '0', '1-10', '0', '0', '0', '0', '1-10', 'Missing Data', 'Missing Data', '0', '0', 'Missing Data', 'Missing Data', 'Missing Data', '0', '1-10', '0', '0', '1-10', '1-10', '0', '1-10', '0', '1-10', '0', '0', '0', '0', '0', 'Missing Data', '11-20', '0', '0', '0', '1-10', '0', 'Missing Data', 'Missing Data', '1-10', '1-10', '1-10', '0', '0', '0', '0', '0', '0', '0', '1-10', '0', '0', '0', '1-10', 'Missing Data', 'Missing Data', '0', '0', 'Missing Data', '0', '0', '1-10', 'Missing Data', '1-10', '1-10', '0', '0', '0', '0', '0', 'Missing Data', '1-10', '0', '0', '0', 'Missing Data', '0', '0', '0', '0', '0', '0', '0', '0', '1-10', '0', 'Missing Data', '1-10', '0', 'Missing Data', '0', '0', '0', '0', '1-10', '1-10', '0', '0', 'Missing Data', '0', 'Missing Data', 'Missing Data', '0', '0', '0', '0', '1-10', '21-30', '1-10', '0', '0', '1-10', '1-10', '0', '0', '0', '0', '11-20', '1-10', 'Missing Data', '1-10', '0', '0', 'Missing Data', '1-10', '0', '1-10', '0', '0', '1-10', '11-20', '1-10', '0', '1-10', '1-10', '1-10', '1-10', '1-10', 'Missing Data', '1-10', '1-10', '0', '0', '1-10', '0', '0', '0', '0', '0', '1-10', '1-10', '0', 'Missing Data', 'Missing Data', '1-10', '0', '0', '0', '11-20', '0', '0', '1-10', '1-10', 'Missing Data', '1-10', '0', '0', '0', '0', 'Missing Data', '1-10', '1-10', '0', 'Missing Data', '1-10', '1-10', '11-20', '0', '0', 'Missing Data', '0', '0', 'Missing Data', 'Missing Data', '0', '0', '0', '1-10', '0', '0', '0', '0', '0', '1-10', '1-10', '0', '0', '1-10', '1-10', '1-10', '1-10', '1-10', 'Missing Data', '1-10', '0', '1-10', '0', '0', '1-10', '0', '0', '1-10', '0', '1-10', '0', '0', '0', '1-10', '0', '1-10', '0', '0', '0', '0', 'Missing Data', 'Missing Data', 'Missing Data', 'Missing Data', '0', '1-10', '0', '1-10', '1-10', '0', '0', 'Missing Data', '0', '1-10', '0', '21-30', 'Missing Data', 'Missing Data', '0', '0', '0', '0', '1-10', '1-10', '0', '0', '0', '1-10', '0', '11-20', '0', 'Missing Data', '0', '0', '0', '1-10', '0', '0', '0', '0', '0', '0', '0', '0', '1-10', '0', '0', '21-30', 'Missing Data', '0', '0', '0', '1-10', '0', 'Missing Data', '1-10', '0', '0', '0', '1-10', '0', '0', '1-10', '1-10', '1-10', '0', '0', '0', 'Missing Data', '1-10', '0', '0', 'Missing Data', 'Missing Data', '0', '0', '0', '0', '0', '0', '0', '0', '0', '1-10', '0', '1-10', '1-10', '0', '1-10', '0', '0', '0', '0', '0', '0', 'Missing Data', 'Missing Data', '0', '1-10', '1-10', '1-10', '1-10', '1-10', 'Missing Data', '1-10', '1-10', '0', '0', '1-10', 'Missing Data', '0', '0', '0', '1-10', '1-10', '0', '0', '0', '0', '0', '0', '0', '0', '0', '1-10', '0', '1-10', '0', '1-10', '0', '1-10', '0', '1-10', '1-10', 'Missing Data', '1-10', '0', '1-10', '0', '0', 'Missing Data', '0', '0', '0', '0', 'Missing Data', '1-10', '11-20', '1-10', '0', '0', '0', '0', '0', '0', 'Missing Data', '1-10', '11-20', 'Missing Data', 'Missing Data', '1-10', '0', '1-10', '0', '11-20', 'Missing Data', '21-30', 'Missing Data', '0', '0', '0', '0', '1-10', '0', '0', '0', '1-10', '0', '0', 'Missing Data', '0', '1-10', '0', '0', '1-10', '1-10', '0', '0', '1-10', '1-10', '1-10', '0', 'Missing Data', 'Missing Data', '0', '0', '0', '1-10', 'Missing Data', '0', '0', '0', 'Missing Data', '0', '1-10', '0', '0', '1-10', '31+', 'Missing Data', '0', 'Missing Data', '1-10', '1-10', '31+', '1-10', '0', '1-10', '1-10', '1-10', '0', '0', 'Missing Data', '0', '0', '0', 'Missing Data', '1-10', '0', '0', '0', '31+', '1-10', 'Missing Data', '0', '11-20', '0', '0', '0', '0', 'Missing Data', '1-10', 'Missing Data', '0', '11-20', '0', '1-10', '0', '0', '0', '0', '0', '1-10', '1-10', '0', '0', '1-10', '1-10', '1-10', '1-10', '0', '0', '0', '0', '0', '0', '0', 'Missing Data', '0', '21-30', '0', '1-10', '1-10', '1-10', 'Missing Data', '0', '1-10', 'Missing Data', '1-10', '1-10', 'Missing Data', 'Missing Data', '0', '0', '0', '0', '0', '0', '0', '0', '0', '0', '0', '0', '1-10', 'Missing Data', '0', '0', '1-10', 'Missing Data', '0', '0', 'Missing Data', '1-10', '1-10', '0', '0', '0', '0', '0', '0', '1-10', '0', '0', '0', '0', '1-10', '1-10', 'Missing Data', '0', '0', '0', '0', '1-10', '0', '0', '1-10', '0', '0', 'Missing Data', '0', '1-10', '1-10', '1-10', '1-10', '1-10', 'Missing Data', '0', 'Missing Data', '0', '0', '1-10', 'Missing Data', '0', '0', '0', '1-10', '1-10', '1-10', '0', '1-10', '0', '0', '1-10', '1-10', '1-10', '0', 'Missing Data', '0', '0', '0', '1-10', '1-10', '0', '0', '0', 'Missing Data', '0', '0', '0', '1-10', '0', '0', '0', '0', '1-10', '1-10', 'Missing Data', 'Missing Data', '1-10', '0', 'Missing Data', '1-10', '0', '0', '1-10', '0', '0', '0', '0', '1-10', '0', '1-10', '0', '11-20', '0', '1-10', '1-10', '0', '0', '0', '0', '1-10', '0', '1-10', '0', '11-20', 'Missing Data', '0', 'Missing Data', '0', '1-10', '1-10', '0', 'Missing Data', '0', '0', '0', '1-10', '0', '0', '0', 'Missing Data', 'Missing Data', '0', 'Missing Data', '1-10', '0', '1-10', '0', '0', '1-10', '1-10', 'Missing Data', '0', '0', '1-10', '0', 'Missing Data', '0', '0', '0', '1-10', 'Missing Data', 'Missing Data', '0', '0', '0', 'Missing Data', '1-10', '31+', '0', '1-10', '0', '1-10', '1-10', '0', '0', '1-10', '0', '1-10', '0', '0', '0', '0', '0', '0', '1-10', '1-10', '1-10', '1-10', '11-20', '1-10', '11-20', 'Missing Data', 'Missing Data', '0', '0', '1-10', '0', 'Missing Data', 'Missing Data', '1-10', '1-10', '1-10', '0', '0', '0', '1-10', 'Missing Data', '1-10', '0', '1-10', '0', '1-10', '0', 'Missing Data', '0', '0', '0', '0', '0', '1-10', '1-10', '1-10', '0', '0', '1-10', '0', '0', '0', '0', '1-10', '0', '0', '1-10', '0', '1-10', '1-10', '1-10', '1-10', '1-10', '1-10', '0', '1-10', '11-20', '1-10', '1-10', '0', 'Missing Data', '0', '0', '21-30', '0', '11-20', '0', '1-10', '0', '0', '0', '1-10', '1-10', '0', '1-10', '1-10', '0', '1-10', '11-20', '1-10', '0', '0', '0', '0', '1-10', '1-10', '0', '11-20', '1-10', '11-20', '1-10', '0', '1-10', '0', '0', '0', '1-10', '1-10', '0', '1-10', '0', '0', '11-20', '11-20', '0', '0', '11-20', '1-10', '0', '1-10', '0', '0', '1-10', '0', '0', '1-10', '11-20', '0', '0', '1-10', '1-10', '0', '1-10', '1-10', '0', '1-10', '1-10', '1-10', 'Missing Data', '0', '0', '0', '1-10', '1-10', 'Missing Data', '1-10', '1-10', '1-10', 'Missing Data', '0', '1-10', '0', '1-10', '1-10', '1-10', '1-10', '1-10', '1-10', '21-30', '0', '0', '1-10', '0', '0', '0', '0', '0', '11-20', '0', '1-10', '0', '0', '11-20', '0', '0', 'Missing Data', '0', '0', '1-10', '0', '1-10', '1-10', '0', '11-20', '11-20', '1-10', '0', '0', '1-10', '1-10', '0', '1-10', '11-20', '1-10', '0', '1-10', '11-20', '11-20', '1-10', '0', '1-10', '11-20', '1-10', 'Missing Data', '0', 'Missing Data', '1-10', '1-10', '1-10', '1-10', '0', '1-10', 'Missing Data', '0', '0', '1-10', '1-10', '1-10', '0', '1-10', 'Missing Data', '0', '0', '1-10', '0', '1-10', 'Missing Data', '0', '0', '11-20', '1-10', '1-10', '1-10', '1-10', '0', '0', '1-10', '0', '1-10', '31+', '0', '0', '0', '1-10', '0', '1-10', '0', '0', '0', 'Missing Data', '1-10', '0', '1-10', '21-30', '0', '1-10', '0', '1-10', 'Missing Data', '1-10', 'Missing Data', '1-10', '1-10', '0', '0', '0', '1-10', '0', '1-10', '1-10', '11-20', '1-10', '1-10', '11-20', '1-10', '0', '1-10', '0', 'Missing Data', '0', '0', '0', '1-10', '21-30', '0', '0', '0', '0', '1-10', '1-10', '1-10', '0', '1-10', '1-10', '1-10', '1-10', '0', 'Missing Data', '21-30', '0', '1-10', '1-10', '0', '1-10', '0', '0', 'Missing Data', '0', '0', '1-10', '1-10', '0', '0', '0', '1-10', '0', '0', '0', '11-20', '1-10', '1-10', '0', '1-10', '0', '0', '1-10', 'Missing Data', '0', '0', '1-10', '21-30', '0', '1-10', 'Missing Data', '1-10', '1-10', '1-10', '0', '0', '1-10', '0', 'Missing Data', '0', 'Missing Data', 'Missing Data', '11-20', '1-10', '0', '0', '0', '0', '1-10', '1-10', '1-10', '1-10', '0', '1-10', '0', 'Missing Data', '1-10', '1-10', '0', '0', '1-10', '1-10', '0', '1-10', '0', '11-20', '0', 'Missing Data', '0', '1-10', '0', '11-20', '21-30', 'Missing Data', '1-10', 'Missing Data', '0', '1-10', '1-10', '11-20', '0', '11-20', '11-20', '31+', '0', '0', '0', '21-30', '1-10', '0', '21-30', '1-10', '1-10', '0', '1-10', '0', '1-10', '0', '1-10', '1-10', '0', '0', '0', '1-10', '1-10', '1-10', '0', '0', 'Missing Data', '1-10', '0', '1-10', '0', '1-10', '1-10', '1-10', '1-10', '0', '0', '0', '1-10', '11-20', '0', '0', '0', '31+', '0', '0', '11-20', '1-10', 'Missing Data', '0', '0', 'Missing Data', '1-10', 'Missing Data', '1-10', '1-10', '1-10', '11-20', '0', '1-10', '1-10', '1-10', '0', '0', '1-10', '0', '11-20', '0', '0', '1-10', '0', '0', '0', '21-30', '1-10', '1-10', '0', '0', '11-20', '1-10', '0', '1-10', '1-10', '0', '0', '0', '1-10', '11-20', '0', '1-10', '0', '0', '1-10', 'Missing Data', '1-10', '0', '1-10', '0', '0', '1-10', '0', '0', '1-10', 'Missing Data', '21-30', '1-10', '1-10', '1-10', '11-20', '1-10', '0', '0', '1-10', '0', '0', '1-10', '1-10', '1-10', 'Missing Data', '1-10', '0', '0', '1-10', '1-10', '1-10', '1-10', '11-20', '1-10', '0', '1-10', '0', '1-10', '1-10', '1-10', '1-10', '0', '0', '1-10', '0', '1-10', '11-20', 'Missing Data', '11-20', '1-10', '11-20', '1-10', 'Missing Data', '0', '0', '1-10', '0', '1-10', '1-10', '1-10', '11-20', '0', '1-10', '1-10', '0', '0', '1-10', '1-10', '0', '1-10', 'Missing Data', '1-10', '0', '0', '0', '1-10', '1-10', '0', '11-20', '1-10', '1-10', '1-10', '0', '1-10', '1-10', '0', 'Missing Data', '1-10', '1-10', '0', 'Missing Data', '1-10', '1-10', '1-10', '1-10', '1-10', '1-10', '1-10', '0', '1-10', '11-20', '0', '21-30', '0', '1-10', '1-10', 'Missing Data', '0', '1-10', '1-10', '1-10', '0', '1-10', '1-10', '0', '21-30', '1-10', '0', '0', '0', '21-30', '0', '0', '0', '21-30', '0', '1-10', '0', '1-10', '0', '21-30', '1-10', '0', '1-10', '0', '1-10', '0', '0', '1-10', '1-10', '11-20', 'Missing Data', '0', '11-20', '1-10', '0', '1-10', '11-20', '1-10', '0', '0', '0', '1-10', '0', '0', '1-10', '0', '21-30', '1-10', '0', 'Missing Data', '31+', '31+', '11-20', '0', '0', '0', '1-10', '0', 'Missing Data', '0', '0', '11-20', '0', '0', '0', '0', '0', '1-10', 'Missing Data', '11-20', '0', '0', '1-10', '1-10', '1-10', '0', '0', '1-10', '0', '21-30', '0', '11-20', '0', '1-10', '0', '0', '1-10', '0', '1-10', '1-10', '1-10', '1-10', '0', '0', '0', '0', '0', '11-20', '31+', '1-10', '1-10', '1-10', '31+', '0', '0', '31+', '1-10', '1-10', '0', '0', '0', '0', '1-10', '11-20', '0', '0', '1-10', '0', '1-10', '0', '0', '0', '0', '0', '0', '1-10', '0', '0', '1-10', '0', '1-10', '0', '11-20', '1-10', '0', '31+', '11-20', '1-10', '0', '0', '0', '1-10', 'Missing Data', '21-30', '0', '0', '1-10', '0', '0', '0', '0', '0', '0', '0', '0', '0', '0', '1-10', 'Missing Data', '11-20', 'Missing Data', '1-10', '1-10', '0', '1-10', '1-10', '0', '0', '0', '1-10', '0', '1-10', '0', '1-10', '0', '0', '1-10', '1-10', '0', 'Missing Data', 'Missing Data', '1-10', '11-20', '1-10', '21-30', '0', '0', '11-20', '0', '0', '1-10', 'Missing Data', '0', '0', 'Missing Data', '11-20', '1-10', '1-10', '11-20', '1-10', '1-10', '0', '1-10', '0', '1-10', '1-10', '1-10', '0', '11-20', '1-10', '1-10', '0', '1-10', '0', '0', '1-10', '1-10', '0', '0', '11-20', '1-10', '21-30', '0', '0', '1-10', '0', 'Missing Data', '0', 'Missing Data', '1-10', 'Missing Data', '0', '0', '21-30', '1-10', '11-20', '1-10', '0', '1-10', '11-20', '0', '1-10', '0', '1-10', '1-10', '1-10', '1-10', '0', '21-30', '0', '0', '0', '0', '0', '11-20', '0', '1-10', '1-10', '0', '1-10', '1-10', '0', '1-10', '1-10', '0', '1-10', '1-10', '1-10', '0', '11-20', '11-20', '1-10', '0', '0', '1-10', '1-10', '0', '1-10', '0', '1-10', '0', '0', '1-10', '0', '0', '1-10', '0', '21-30', '1-10', '1-10', '0', '0', '1-10', '0', '1-10', '0', '1-10', '0', '0', 'Missing Data', '0', '0', '0', '0', '1-10', '1-10', '1-10', '0', '11-20', '1-10', '0', '0', '1-10', 'Missing Data', '0', '1-10', '0', '0', '0', '0', 'Missing Data', '1-10', '0', '0', '1-10', '31+', '1-10', '0', '0', '1-10', '1-10', '1-10', '1-10', '0', '0', '0', '1-10', '0', '1-10', '1-10', '21-30', '31+', '0', '1-10', '0', '1-10', '0', '0', '11-20', '21-30', '0', '1-10', '1-10', '0', '0', '1-10', '1-10', '0', 'Missing Data', '0', '1-10', '0', '1-10', 'Missing Data', '1-10', '1-10', '1-10', 'Missing Data', '1-10', '0', '0', '1-10', '1-10', '0', '0', '0', '1-10', '0', '11-20', '1-10', '0', '0', '0', '1-10', '1-10', '0', '0', '0', '1-10', '1-10', '0', '1-10', '0', '0', '0', '11-20', '1-10', '1-10', '0', '1-10', '1-10', '0', 'Missing Data', '0', '1-10', '1-10', '0', '1-10', '1-10', '0', '0', '0', '0', '1-10', '1-10', '21-30', '0', '0', '0', '0', '31+', '1-10', '0', '1-10', '0', 'Missing Data', '0', '0', '0', '1-10', '1-10', '1-10', '1-10', '1-10', '1-10', '1-10', 'Missing Data', 'Missing Data', '0', '11-20', '0', 'Missing Data', '1-10', '1-10', '1-10', '1-10', '0', '1-10', '1-10', '21-30', '1-10', '0', 'Missing Data', '0', '1-10', '0', '1-10', '0', '1-10', '1-10', '21-30', '0', '1-10', '1-10', '1-10', '1-10', '1-10', '11-20', '1-10', 'Missing Data', '0', '0', '11-20', '0', '1-10', '1-10', '1-10', 'Missing Data', '0', '1-10', '0', '0', '1-10', '0', '0', '1-10', '0', '0', '0', '1-10', '1-10', '1-10', '0', '11-20', '11-20', '1-10', '1-10', '1-10', '11-20', '1-10', '1-10', 'Missing Data', '0', '21-30', '1-10', '0', '0', '0', '21-30', '0', '0', '11-20', '0', '1-10', '0', '1-10', '1-10', '0', '0', '21-30', '0', '1-10', '0', '0', '0', '1-10', '0', '0', '0', '1-10', '1-10', '0', '11-20', '1-10', '0', '1-10', '1-10', '0', '1-10', 'Missing Data', '0', '0', '11-20', '1-10', '0', '1-10', '0', '11-20', '1-10', '0', '1-10', '21-30', '0', '21-30', '0', '1-10', '1-10', '0', '0', '0', '0', '0', '1-10', '21-30', '1-10', 'Missing Data', '21-30', '1-10', '21-30', '0', '0', '1-10', 'Missing Data', '1-10', '0', '1-10', '1-10', '1-10', '0', '1-10', '0', '1-10', '0', '0', 'Missing Data', '11-20', '1-10', 'Missing Data', '1-10', '1-10', '1-10', '11-20', '21-30', 'Missing Data', '21-30', '1-10', '1-10', '1-10', 'Missing Data', '21-30', '0', '1-10', '0', '0', '1-10', '1-10', '1-10', '21-30', '0', '1-10', '1-10', '0', '0', '1-10', '1-10', '0', '0', '1-10', '1-10', '21-30', '11-20', '0', '0', '0', '0', '1-10', '21-30', '0', '1-10', 'Missing Data', '0', '0', '1-10', '0', '0', '1-10', '0', '0', '1-10', '0', '0', 'Missing Data', '0', '0', '0', '1-10', '1-10', '1-10', '0', '1-10', 'Missing Data', '0', '0', '11-20', '1-10', '0', '0', 'Missing Data', 'Missing Data', '0', '0', '0', '0', '1-10', '0', '1-10', '0', '1-10', 'Missing Data', 'Missing Data', '1-10', 'Missing Data', '0', '1-10', '0', '0', '11-20', '0', '1-10', '21-30', 'Missing Data', '1-10', 'Missing Data', '0', '0', '0', '11-20', '1-10', '1-10', '11-20', '1-10', '0', '0', '1-10', '0', '11-20', '1-10', '11-20', '0', '0', '0', '0', '1-10', '0', '0', '1-10', '0', '0', '1-10', '0', '0', '0', '0', '0', '1-10', 'Missing Data', 'Missing Data', '1-10', '0', 'Missing Data', '0', '1-10', '1-10', '1-10', '0', '1-10', '1-10', '1-10', '1-10', '0', '0', '11-20', '1-10', '0', '1-10', '0', 'Missing Data', '1-10', '0', '11-20', '11-20', 'Missing Data', '0', '11-20', '0', '1-10', 'Missing Data', '0', '1-10', '1-10', 'Missing Data', '0', '0', '1-10', '1-10', '0', '0', '21-30', '0', '1-10', '1-10', '0', '0', '1-10', '0', '0', '0', '0', '1-10', '1-10', '1-10', '11-20', '0', '1-10', '1-10', '1-10', '1-10', '0', '0', '0', '0', '0', '0', '1-10', '0', '1-10', '11-20', '1-10', '11-20', '11-20', '1-10', '0', '0', '1-10', '1-10', '1-10', 'Missing Data', '0', '1-10', '1-10', '1-10', '1-10', '1-10', '0', '0', '1-10', '0', '0', '1-10', '1-10', '0', '0', '0', '1-10', '0', '11-20', '0', '1-10', '1-10', '1-10', '1-10', '0', '0', '0', '0', '0', '21-30', '1-10', '0', '1-10', '1-10', '0', '0', '0', '0', '1-10', '1-10', '1-10', '1-10', '1-10', '1-10', '0', '1-10', '1-10', '0', '0', '0', '1-10', '1-10', '1-10', '0', '11-20', '0', '1-10', 'Missing Data', '0', 'Missing Data', '0', '1-10', 'Missing Data', '1-10', '0', '0', '0', '1-10', '1-10', '11-20', '11-20', '0', '0', '11-20', '0', '11-20', '0', '1-10', '31+', '1-10', '1-10', '1-10', '1-10', '1-10', '1-10', '0', '0', '0', '1-10', '0', '0', 'Missing Data', '0', '1-10', '31+', '1-10', '0', 'Missing Data', '0', '1-10', '1-10', '11-20', '1-10', '0', '1-10', '1-10', '0', '1-10', '1-10', '0', '0', '0', '1-10', 'Missing Data', '1-10', '0', 'Missing Data', '0', '0', '1-10', '0', '1-10', '1-10', 'Missing Data', '31+', 'Missing Data', '1-10', '11-20', '1-10', '0', '11-20', '0', 'Missing Data', '0', '1-10', '0', '0', '0', '0', '0', '1-10', '0', '0', '1-10', '1-10', '1-10', '0', '1-10', '0', '1-10', '0', '31+', '21-30', '1-10', '0', '0', '1-10', '0', '1-10', '0', '0', '1-10', '0', '1-10', '1-10', '1-10', '0', '0', '0', 'Missing Data', '11-20', '11-20', '1-10', '0', '1-10', '0', '0', '11-20', '0', '1-10', '1-10', '0', '1-10', '11-20', '0', '0', '1-10', '1-10', '0', '0', '1-10', '1-10', '11-20', '11-20', '1-10', '0', '0', '0', '0', '0', '1-10', '0', '0', '0', '0', '0', '0', '0', '0', '1-10', '1-10', '0', '11-20', '31+', '1-10', '31+', '0', '0', '0', 'Missing Data', '1-10', 'Missing Data', '0', '0', '1-10', '0', '1-10', '0', '1-10', '1-10', '1-10', '1-10', '1-10', '0', '1-10', '0', '1-10', 'Missing Data', '0', '0', 'Missing Data', '0', '1-10', '0', '0', '1-10', '0', '0', '1-10', '1-10', '1-10', '31+', '0', '1-10', '1-10', '0', '0', '0', '1-10', '0', '1-10', '21-30', '0', '0', '11-20', '0', '0', '0', '0', '0', '0', '0', '0', '11-20', '0', '11-20', '0', '1-10', '1-10', '1-10', '0', 'Missing Data', '0', '0', '1-10', '0', '21-30', '11-20', '0', '1-10', '1-10', '0', '11-20', '0', '0', 'Missing Data', '1-10', 'Missing Data', '0', '1-10', '0', '0', '0', '0', '0', '0', 'Missing Data', '0', '1-10', '0', '21-30', '1-10', '1-10', '11-20', '0', '0', '1-10', '11-20', '1-10', '1-10', '0', '11-20', '0', '11-20', '1-10', '0', '1-10', '1-10', '0', '0', 'Missing Data', '1-10', 'Missing Data', '0', 'Missing Data', '1-10', 'Missing Data', '1-10', '0', '1-10', '0', '0', '1-10', '0', '0', '21-30', '31+', '0', 'Missing Data', '21-30', '0', '0', '0', 'Missing Data', '0', '1-10', '1-10', '0', '0', '0', '0', '1-10', '0', '0', '0', '0', '11-20', '0', '0', '0', '1-10', '11-20', '0', '0', '0', '0', '0', '0', '1-10', 'Missing Data', '1-10', '0', '1-10', '1-10', '1-10', '1-10', '0', '11-20', '0', '0', '1-10', '0', '0', '1-10', '0', '0', '0', '1-10', '11-20', '0', '1-10', '1-10', '0', '0', '11-20', '1-10', '0', '1-10', '0', '1-10', '0', '0', '0', '1-10', '11-20', '11-20', '1-10', '1-10', '1-10', '1-10', '1-10', 'Missing Data', '1-10', 'Missing Data', '0', '1-10', '1-10', '0', '11-20', '0', '1-10', '11-20', '0', '0', '0', '1-10', '11-20', '0', '0', '1-10', '0', '0', 'Missing Data', '1-10', '0', '0', '1-10', '0', '0', '0', '1-10', '0', '1-10', '0', '0', 'Missing Data', 'Missing Data', '11-20', '21-30', '11-20', '11-20', '1-10', '0', '0', '0', '0', '1-10', '1-10', '0', '0', '0', '21-30', '0', 'Missing Data', 'Missing Data', '1-10', '1-10', '0', '1-10', '0', 'Missing Data', '0', 'Missing Data', '31+', '0', '1-10', '0', '0', '1-10', '1-10', '0', '0', '1-10', '0', '0', '0', '0', '1-10', '11-20', '0', '31+', '0', '1-10', '1-10', '0', '0', '0', 'Missing Data', '1-10', '0', '0', '0', '0', '1-10', '1-10', '0', '0', '1-10', '1-10', '0', '1-10', '1-10', 'Missing Data', '0', '1-10', '11-20', '0', '0', '11-20', '1-10', '1-10', '0', '11-20', '1-10', 'Missing Data', '0', '1-10', '0', '0', 'Missing Data', 'Missing Data', '0', '0', '1-10', '0', '1-10', '0', '0', '0', '1-10', '0', '0', '0', '1-10', '0', '0', '0', '1-10', '31+', '0', '0', '1-10', '0', '0', '0', 'Missing Data', '1-10', '0', '0', '1-10', '0', '0', '0', '1-10', '0', '1-10', '0', '0', '11-20', 'Missing Data', '0', '0', '0', '11-20', '1-10', '31+', '0', 'Missing Data', '0', '0', '1-10', '1-10', 'Missing Data', '0', '1-10', '0', '0', '0', '11-20', 'Missing Data', '1-10', '1-10', '1-10', '0', 'Missing Data', '1-10', '0', '0', '0', '0', '0', '1-10', '1-10', '1-10', '0', '0', '1-10', '0', '0', '0', '1-10', '0', 'Missing Data', '21-30', '0', '0', '1-10', '0', '1-10', '1-10', '1-10', '1-10', '31+', '1-10', 'Missing Data', '11-20', '0', '11-20', '21-30', '11-20', '1-10', '0', '0', '0', '0', '1-10', '0', '1-10', '11-20', '0', '1-10', '0', '21-30', '0', '1-10', '0', '0', '0', '0', 'Missing Data', '0', '0', '11-20', '1-10', '0', '1-10', '0', '1-10', '0', '0', '11-20', '0', '0', '0', '1-10', '0', '0', '0', '11-20', '0', '1-10', '21-30', '0', '1-10', '0', 'Missing Data', '11-20', '1-10', '0', '0', '1-10', '11-20', '11-20', 'Missing Data', '21-30', '1-10', '1-10', '1-10', '1-10', '1-10', '1-10', '1-10', '1-10', '0', '0', '0', '1-10', '0', '0', '1-10', '0', '1-10', '1-10', '0', '1-10', '0', '0', '0', '0', '1-10', '1-10', '0', '1-10', '1-10', '0', '0', '1-10', '1-10', '0', '0', '21-30', 'Missing Data', '1-10', '0', '1-10', 'Missing Data', '1-10', '0', '0', '0', '1-10', '0', '1-10', '1-10', '0', '0', '11-20', '1-10', '1-10', '1-10', '0', '1-10', '1-10', '0', 'Missing Data', '1-10', '1-10', '11-20', '1-10', '21-30', '1-10', '1-10', '0', '0', '1-10', '0', '0', '1-10', '0', '0', '0', '11-20', '0', 'Missing Data', '21-30', '0', '0', '0', '0', '31+', '1-10', '1-10', '0', 'Missing Data', '1-10', '11-20', '0', '1-10', '11-20', '0', 'Missing Data', '11-20', 'Missing Data', '31+', '0', '0', '1-10', '11-20', '1-10', '1-10', '0', '1-10', '0', '0', '11-20', '0', '21-30', '1-10', 'Missing Data', 'Missing Data', '0', '0', '0', '0', 'Missing Data', 'Missing Data', 'Missing Data', '0', '0', '0', 'Missing Data', '0', '1-10', '0', '1-10', '1-10', '0', '0', '1-10', '0', '0', '0', '1-10', '0', 'Missing Data', '1-10', 'Missing Data', '0', '21-30', '0', '0', '0', '0', '0', 'Missing Data', '1-10', '0', '1-10', '1-10', '0', '1-10', '0', 'Missing Data', 'Missing Data', '0', '1-10', 'Missing Data', '1-10', '0', '11-20', 'Missing Data', '1-10', '0', '0', '1-10', 'Missing Data', '1-10', '1-10', '1-10', '0', '0', '0', '0', '0', '0', '1-10', '11-20', '1-10', '1-10', 'Missing Data', 'Missing Data', 'Missing Data', '0', '0', 'Missing Data', 'Missing Data', '0', 'Missing Data', '0', '1-10', '0', '0', '0', '0', '11-20', '11-20', '21-30', '11-20', '1-10', '0', '1-10', '0', 'Missing Data', '11-20', 'Missing Data', 'Missing Data', '0', '1-10', '0', '0', 'Missing Data', '0', '0', '0', '0', 'Missing Data', '0', '0', '0', '21-30', '0', 'Missing Data', 'Missing Data', '0', 'Missing Data', '0', '0', 'Missing Data', '0', '0', '0', 'Missing Data', 'Missing Data', 'Missing Data', '0', 'Missing Data', 'Missing Data', '0', '0', 'Missing Data', 'Missing Data', '0', 'Missing Data', '1-10', '0', 'Missing Data', '0', '0', '0', '0', '0', '0', '1-10', '1-10', '1-10', '0', 'Missing Data', '0', '0', '0', 'Missing Data', '0', '1-10', '1-10', 'Missing Data', 'Missing Data', 'Missing Data', '0', 'Missing Data', 'Missing Data', '1-10', 'Missing Data', '0', 'Missing Data', '0', '11-20', '0', '0', '0', '0', '0', 'Missing Data', '0', 'Missing Data', '1-10', '21-30', '0', '0', '0', 'Missing Data', 'Missing Data', 'Missing Data', 'Missing Data', 'Missing Data', 'Missing Data', 'Missing Data', '0', '0', '0', '0', '0', '0', '21-30', '1-10', '0', '0', 'Missing Data', '0', '0', '0', '0', 'Missing Data', 'Missing Data', 'Missing Data', '0', '1-10', '0', '1-10', 'Missing Data', 'Missing Data', '0', '1-10', '1-10', '1-10', 'Missing Data', '0', '0', 'Missing Data', '0', 'Missing Data', 'Missing Data', '0', '0', 'Missing Data', 'Missing Data', 'Missing Data', '1-10', 'Missing Data', 'Missing Data', '1-10', '1-10', '0', '1-10', '1-10', 'Missing Data', 'Missing Data', '0', 'Missing Data', '0', 'Missing Data', '31+', 'Missing Data', '0', '1-10', '1-10', '0', '0', '1-10', '0', '11-20', '0', 'Missing Data', '0', '1-10', 'Missing Data', '1-10', '1-10', '0', '1-10', 'Missing Data', '0', 'Missing Data', 'Missing Data', '21-30', 'Missing Data', 'Missing Data', '0', '1-10', 'Missing Data', 'Missing Data', 'Missing Data', '0', '0', '0', '0', 'Missing Data', 'Missing Data', '1-10', '0', '0', '0', '0', '0', '0', 'Missing Data', '0', '0', '0', 'Missing Data', 'Missing Data', '1-10', '21-30', '0', '1-10', '0', '0', '0', '0', 'Missing Data', '0', 'Missing Data', '21-30', '0', '0', 'Missing Data', 'Missing Data', '0', '0', '1-10', '0', 'Missing Data', '0', '21-30', 'Missing Data', '0', '0', '0', '0', '0', '0', '1-10', '0', '0', 'Missing Data', 'Missing Data', '0', '0', 'Missing Data', '1-10', '0', 'Missing Data', '1-10', '0', '0', '0', '1-10', 'Missing Data', 'Missing Data', 'Missing Data', 'Missing Data', 'Missing Data', 'Missing Data', '0', '0', 'Missing Data', '0', '0', '1-10', '0', 'Missing Data', '1-10', '0', '0', '1-10', '0', 'Missing Data', '0', '0', '1-10', '0', '1-10', '11-20', '0', 'Missing Data', '0', '1-10', '0', 'Missing Data', '0', '0', '0', 'Missing Data', '0', 'Missing Data', '0']\n"
          ]
        }
      ]
    },
    {
      "cell_type": "code",
      "source": [
        "# this for loop shows the counts for each range\n",
        "\n",
        "range_freq_dict = {}\n",
        "for category in ranges_list:\n",
        "  if category in range_freq_dict:\n",
        "    range_freq_dict[category] += 1\n",
        "  else:\n",
        "    range_freq_dict[category] = 1\n",
        "\n",
        "range_freq_dict"
      ],
      "metadata": {
        "colab": {
          "base_uri": "https://localhost:8080/"
        },
        "id": "eyF2EBQbM5Ir",
        "outputId": "ed78f7ec-78de-418d-ee6c-925a4b2f28c2"
      },
      "execution_count": null,
      "outputs": [
        {
          "output_type": "execute_result",
          "data": {
            "text/plain": [
              "{'11-20': 207,\n",
              " '0': 1866,\n",
              " '1-10': 1239,\n",
              " 'Missing Data': 431,\n",
              " '21-30': 87,\n",
              " '31+': 35}"
            ]
          },
          "metadata": {},
          "execution_count": 23
        }
      ]
    },
    {
      "cell_type": "code",
      "source": [
        "# now we need to make our counts and ranges into variables so we can make a new dataframe\n",
        "\n",
        "bar_range_vals = []\n",
        "bar_count_vals = []\n",
        "for key, value in range_freq_dict.items():\n",
        "  bar_range_vals.append(key)\n",
        "  bar_count_vals.append(value)\n",
        "\n",
        "print(bar_range_vals)\n",
        "print(bar_count_vals)"
      ],
      "metadata": {
        "colab": {
          "base_uri": "https://localhost:8080/"
        },
        "id": "knS1eQ7VN6Mk",
        "outputId": "54390b5a-bd30-4eb5-cbd1-99ec39396652"
      },
      "execution_count": null,
      "outputs": [
        {
          "output_type": "stream",
          "name": "stdout",
          "text": [
            "['11-20', '0', '1-10', 'Missing Data', '21-30', '31+']\n",
            "[207, 1866, 1239, 431, 87, 35]\n"
          ]
        }
      ]
    },
    {
      "cell_type": "code",
      "source": [
        "# make the new dataframe from ranges and counts\n",
        "\n",
        "barchart = pd.DataFrame({\"ranges\": bar_range_vals, \"counts\": bar_count_vals})\n",
        "\n"
      ],
      "metadata": {
        "id": "Nu5afrRrcU8h"
      },
      "execution_count": null,
      "outputs": []
    },
    {
      "cell_type": "code",
      "source": [
        "# define the ranges as the category, and turn the counts into percentages\n",
        "\n",
        "barchart[\"ranges\"] = barchart[\"ranges\"].astype(\"category\")\n",
        "\n",
        "barchart[\"counts\"] = (100. * barchart[\"counts\"] / barchart[\"counts\"].sum()).round(1)\n",
        "\n",
        "\n"
      ],
      "metadata": {
        "id": "Let9rdzJdfeg"
      },
      "execution_count": null,
      "outputs": []
    },
    {
      "cell_type": "code",
      "source": [
        "# reorder the range categories into a logical order\n",
        "\n",
        "barchart[\"ranges\"] = barchart[\"ranges\"].cat.reorder_categories([\"0\", \"1-10\", \"11-20\", \"21-30\", \"31+\", \"Missing Data\"], ordered=True)\n",
        "\n"
      ],
      "metadata": {
        "id": "iKrvM-c4eGf3"
      },
      "execution_count": null,
      "outputs": []
    },
    {
      "cell_type": "code",
      "source": [
        "# for our chart we want all the bars except the last one to be the same color, so define the color palette now\n",
        "\n",
        "color = [\"#0a49c7\", \"#0a49c7\", \"#0a49c7\", \"#0a49c7\", \"#0a49c7\", \"gray\"]"
      ],
      "metadata": {
        "id": "PY5AHRfpgGaS"
      },
      "execution_count": null,
      "outputs": []
    },
    {
      "cell_type": "code",
      "source": [
        "# create the barplot and add styling\n",
        "\n",
        "qc = sns.barplot(y=\"ranges\", x=\"counts\", data=barchart,\n",
        "            errorbar=None,\n",
        "            palette=color,\n",
        "               width=.5,\n",
        "                );\n",
        "plt.bar_label(qc.containers[0], fmt=\"%.1f%%\")\n",
        "plt.suptitle(\"Alcohol Consumption by American Adults (2020)\", color=\"#0a49c7\")\n",
        "plt.title(\"Number of drinks* per week\", color=\"gray\", size=\"small\")\n",
        "plt.ylabel(\" \")\n",
        "plt.xlabel(\" \")\n",
        "plt.tick_params(left = False)\n",
        "qc.axes.get_xaxis().set_visible(False)\n",
        "qc.axes.spines[\"top\"].set_visible(False)\n",
        "qc.axes.spines[\"bottom\"].set_visible(False)\n",
        "qc.axes.spines[\"right\"].set_visible(False)\n",
        "plt.figtext(0.01,0.01, \"*One drink can be 12 fl oz of regular beer; 8-9 fl oz of malt liquor; 5 fl oz of table wine; or 1.5 oz of 80-proof distilled spirits. Source: HINTS 5 Cycle 4, 2020\", wrap=True, fontsize=8)\n",
        "plt.show()"
      ],
      "metadata": {
        "colab": {
          "base_uri": "https://localhost:8080/",
          "height": 506
        },
        "id": "beOZeK3c8Ney",
        "outputId": "474cb905-5905-499a-8be7-d4b9a1ec8d9d"
      },
      "execution_count": null,
      "outputs": [
        {
          "output_type": "display_data",
          "data": {
            "text/plain": [
              "<Figure size 640x480 with 1 Axes>"
            ],
            "image/png": "[encoded data removed]"
          },
          "metadata": {}
        }
      ]
    },
    {
      "cell_type": "markdown",
      "source": [
        "# Your explanation for the new visualization\n",
        "\n",
        "**What does your new visualization show?**\n",
        "\n",
        "The relationship between how many drinks someone consumes per week, and how worried they are about getting cancer."
      ],
      "metadata": {
        "id": "eL5d9AoO6oZv"
      }
    },
    {
      "cell_type": "markdown",
      "source": [
        "# Your code for the new visualization\n",
        "\n",
        "Insert your code in the code block below to create a new visualization based on a different demographic variable of your choice. Make sure to comment your code!"
      ],
      "metadata": {
        "id": "_QQfSwNWhZt7"
      }
    },
    {
      "cell_type": "code",
      "source": [
        "# new visualization code\n",
        "\n",
        "worrydata = hints_data_raw[[\"FreqWorryCancer\", \"AvgDrinksPerWeek\"]]\n",
        "\n",
        "\n",
        "worrydata = worrydata.replace(\"Missing Data (Not Ascertained)\", np.NaN)\n",
        "\n",
        "worrydata = worrydata.replace(\"Missing data (Not Ascertained)\", np.NaN)\n",
        "\n",
        "worrydata = worrydata.replace(\"Unreadable or Nonconforming Numeric Response\", np.NaN)\n",
        "\n",
        "worrydata = worrydata.replace(\"Multiple responses selected in error\", np.NaN)\n",
        "\n",
        "worrydata = worrydata.dropna()\n",
        "\n",
        "worrydata"
      ],
      "metadata": {
        "id": "YqNgZo6k2wnq",
        "colab": {
          "base_uri": "https://localhost:8080/",
          "height": 424
        },
        "outputId": "2b615705-12a8-47dc-95b8-50d703dc388a"
      },
      "execution_count": 71,
      "outputs": [
        {
          "output_type": "execute_result",
          "data": {
            "text/plain": [
              "     FreqWorryCancer AvgDrinksPerWeek\n",
              "0           Somewhat               14\n",
              "1           Somewhat                0\n",
              "2           Slightly                2\n",
              "3           Slightly                1\n",
              "4         Moderately                0\n",
              "...              ...              ...\n",
              "3858        Somewhat                0\n",
              "3859        Somewhat                0\n",
              "3860        Slightly                0\n",
              "3862        Somewhat                0\n",
              "3864      Not at all                0\n",
              "\n",
              "[3397 rows x 2 columns]"
            ],
            "text/html": [
              "\n",
              "  <div id=\"df-99eb9524-1bfb-483d-8bec-306309d0c4b0\" class=\"colab-df-container\">\n",
              "    <div>\n",
              "<style scoped>\n",
              "    .dataframe tbody tr th:only-of-type {\n",
              "        vertical-align: middle;\n",
              "    }\n",
              "\n",
              "    .dataframe tbody tr th {\n",
              "        vertical-align: top;\n",
              "    }\n",
              "\n",
              "    .dataframe thead th {\n",
              "        text-align: right;\n",
              "    }\n",
              "</style>\n",
              "<table border=\"1\" class=\"dataframe\">\n",
              "  <thead>\n",
              "    <tr style=\"text-align: right;\">\n",
              "      <th></th>\n",
              "      <th>FreqWorryCancer</th>\n",
              "      <th>AvgDrinksPerWeek</th>\n",
              "    </tr>\n",
              "  </thead>\n",
              "  <tbody>\n",
              "    <tr>\n",
              "      <th>0</th>\n",
              "      <td>Somewhat</td>\n",
              "      <td>14</td>\n",
              "    </tr>\n",
              "    <tr>\n",
              "      <th>1</th>\n",
              "      <td>Somewhat</td>\n",
              "      <td>0</td>\n",
              "    </tr>\n",
              "    <tr>\n",
              "      <th>2</th>\n",
              "      <td>Slightly</td>\n",
              "      <td>2</td>\n",
              "    </tr>\n",
              "    <tr>\n",
              "      <th>3</th>\n",
              "      <td>Slightly</td>\n",
              "      <td>1</td>\n",
              "    </tr>\n",
              "    <tr>\n",
              "      <th>4</th>\n",
              "      <td>Moderately</td>\n",
              "      <td>0</td>\n",
              "    </tr>\n",
              "    <tr>\n",
              "      <th>...</th>\n",
              "      <td>...</td>\n",
              "      <td>...</td>\n",
              "    </tr>\n",
              "    <tr>\n",
              "      <th>3858</th>\n",
              "      <td>Somewhat</td>\n",
              "      <td>0</td>\n",
              "    </tr>\n",
              "    <tr>\n",
              "      <th>3859</th>\n",
              "      <td>Somewhat</td>\n",
              "      <td>0</td>\n",
              "    </tr>\n",
              "    <tr>\n",
              "      <th>3860</th>\n",
              "      <td>Slightly</td>\n",
              "      <td>0</td>\n",
              "    </tr>\n",
              "    <tr>\n",
              "      <th>3862</th>\n",
              "      <td>Somewhat</td>\n",
              "      <td>0</td>\n",
              "    </tr>\n",
              "    <tr>\n",
              "      <th>3864</th>\n",
              "      <td>Not at all</td>\n",
              "      <td>0</td>\n",
              "    </tr>\n",
              "  </tbody>\n",
              "</table>\n",
              "<p>3397 rows × 2 columns</p>\n",
              "</div>\n",
              "    <div class=\"colab-df-buttons\">\n",
              "\n",
              "  <div class=\"colab-df-container\">\n",
              "    <button class=\"colab-df-convert\" onclick=\"convertToInteractive('df-99eb9524-1bfb-483d-8bec-306309d0c4b0')\"\n",
              "            title=\"Convert this dataframe to an interactive table.\"\n",
              "            style=\"display:none;\">\n",
              "\n",
              "  <svg xmlns=\"http://www.w3.org/2000/svg\" height=\"24px\" viewBox=\"0 -960 960 960\">\n",
              "    <path d=\"M120-120v-720h720v720H120Zm60-500h600v-160H180v160Zm220 220h160v-160H400v160Zm0 220h160v-160H400v160ZM180-400h160v-160H180v160Zm440 0h160v-160H620v160ZM180-180h160v-160H180v160Zm440 0h160v-160H620v160Z\"/>\n",
              "  </svg>\n",
              "    </button>\n",
              "\n",
              "  <style>\n",
              "    .colab-df-container {\n",
              "      display:flex;\n",
              "      gap: 12px;\n",
              "    }\n",
              "\n",
              "    .colab-df-convert {\n",
              "      background-color: #E8F0FE;\n",
              "      border: none;\n",
              "      border-radius: 50%;\n",
              "      cursor: pointer;\n",
              "      display: none;\n",
              "      fill: #1967D2;\n",
              "      height: 32px;\n",
              "      padding: 0 0 0 0;\n",
              "      width: 32px;\n",
              "    }\n",
              "\n",
              "    .colab-df-convert:hover {\n",
              "      background-color: #E2EBFA;\n",
              "      box-shadow: 0px 1px 2px rgba(60, 64, 67, 0.3), 0px 1px 3px 1px rgba(60, 64, 67, 0.15);\n",
              "      fill: #174EA6;\n",
              "    }\n",
              "\n",
              "    .colab-df-buttons div {\n",
              "      margin-bottom: 4px;\n",
              "    }\n",
              "\n",
              "    [theme=dark] .colab-df-convert {\n",
              "      background-color: #3B4455;\n",
              "      fill: #D2E3FC;\n",
              "    }\n",
              "\n",
              "    [theme=dark] .colab-df-convert:hover {\n",
              "      background-color: #434B5C;\n",
              "      box-shadow: 0px 1px 3px 1px rgba(0, 0, 0, 0.15);\n",
              "      filter: drop-shadow(0px 1px 2px rgba(0, 0, 0, 0.3));\n",
              "      fill: #FFFFFF;\n",
              "    }\n",
              "  </style>\n",
              "\n",
              "    <script>\n",
              "      const buttonEl =\n",
              "        document.querySelector('#df-99eb9524-1bfb-483d-8bec-306309d0c4b0 button.colab-df-convert');\n",
              "      buttonEl.style.display =\n",
              "        google.colab.kernel.accessAllowed ? 'block' : 'none';\n",
              "\n",
              "      async function convertToInteractive(key) {\n",
              "        const element = document.querySelector('#df-99eb9524-1bfb-483d-8bec-306309d0c4b0');\n",
              "        const dataTable =\n",
              "          await google.colab.kernel.invokeFunction('convertToInteractive',\n",
              "                                                    [key], {});\n",
              "        if (!dataTable) return;\n",
              "\n",
              "        const docLinkHtml = 'Like what you see? Visit the ' +\n",
              "          '<a target=\"_blank\" href=https://colab.research.google.com/notebooks/data_table.ipynb>data table notebook</a>'\n",
              "          + ' to learn more about interactive tables.';\n",
              "        element.innerHTML = '';\n",
              "        dataTable['output_type'] = 'display_data';\n",
              "        await google.colab.output.renderOutput(dataTable, element);\n",
              "        const docLink = document.createElement('div');\n",
              "        docLink.innerHTML = docLinkHtml;\n",
              "        element.appendChild(docLink);\n",
              "      }\n",
              "    </script>\n",
              "  </div>\n",
              "\n",
              "\n",
              "<div id=\"df-ec60e05a-6bcb-4df6-a145-f13da5ba0abb\">\n",
              "  <button class=\"colab-df-quickchart\" onclick=\"quickchart('df-ec60e05a-6bcb-4df6-a145-f13da5ba0abb')\"\n",
              "            title=\"Suggest charts.\"\n",
              "            style=\"display:none;\">\n",
              "\n",
              "<svg xmlns=\"http://www.w3.org/2000/svg\" height=\"24px\"viewBox=\"0 0 24 24\"\n",
              "     width=\"24px\">\n",
              "    <g>\n",
              "        <path d=\"M19 3H5c-1.1 0-2 .9-2 2v14c0 1.1.9 2 2 2h14c1.1 0 2-.9 2-2V5c0-1.1-.9-2-2-2zM9 17H7v-7h2v7zm4 0h-2V7h2v10zm4 0h-2v-4h2v4z\"/>\n",
              "    </g>\n",
              "</svg>\n",
              "  </button>\n",
              "\n",
              "<style>\n",
              "  .colab-df-quickchart {\n",
              "      --bg-color: #E8F0FE;\n",
              "      --fill-color: #1967D2;\n",
              "      --hover-bg-color: #E2EBFA;\n",
              "      --hover-fill-color: #174EA6;\n",
              "      --disabled-fill-color: #AAA;\n",
              "      --disabled-bg-color: #DDD;\n",
              "  }\n",
              "\n",
              "  [theme=dark] .colab-df-quickchart {\n",
              "      --bg-color: #3B4455;\n",
              "      --fill-color: #D2E3FC;\n",
              "      --hover-bg-color: #434B5C;\n",
              "      --hover-fill-color: #FFFFFF;\n",
              "      --disabled-bg-color: #3B4455;\n",
              "      --disabled-fill-color: #666;\n",
              "  }\n",
              "\n",
              "  .colab-df-quickchart {\n",
              "    background-color: var(--bg-color);\n",
              "    border: none;\n",
              "    border-radius: 50%;\n",
              "    cursor: pointer;\n",
              "    display: none;\n",
              "    fill: var(--fill-color);\n",
              "    height: 32px;\n",
              "    padding: 0;\n",
              "    width: 32px;\n",
              "  }\n",
              "\n",
              "  .colab-df-quickchart:hover {\n",
              "    background-color: var(--hover-bg-color);\n",
              "    box-shadow: 0 1px 2px rgba(60, 64, 67, 0.3), 0 1px 3px 1px rgba(60, 64, 67, 0.15);\n",
              "    fill: var(--button-hover-fill-color);\n",
              "  }\n",
              "\n",
              "  .colab-df-quickchart-complete:disabled,\n",
              "  .colab-df-quickchart-complete:disabled:hover {\n",
              "    background-color: var(--disabled-bg-color);\n",
              "    fill: var(--disabled-fill-color);\n",
              "    box-shadow: none;\n",
              "  }\n",
              "\n",
              "  .colab-df-spinner {\n",
              "    border: 2px solid var(--fill-color);\n",
              "    border-color: transparent;\n",
              "    border-bottom-color: var(--fill-color);\n",
              "    animation:\n",
              "      spin 1s steps(1) infinite;\n",
              "  }\n",
              "\n",
              "  @keyframes spin {\n",
              "    0% {\n",
              "      border-color: transparent;\n",
              "      border-bottom-color: var(--fill-color);\n",
              "      border-left-color: var(--fill-color);\n",
              "    }\n",
              "    20% {\n",
              "      border-color: transparent;\n",
              "      border-left-color: var(--fill-color);\n",
              "      border-top-color: var(--fill-color);\n",
              "    }\n",
              "    30% {\n",
              "      border-color: transparent;\n",
              "      border-left-color: var(--fill-color);\n",
              "      border-top-color: var(--fill-color);\n",
              "      border-right-color: var(--fill-color);\n",
              "    }\n",
              "    40% {\n",
              "      border-color: transparent;\n",
              "      border-right-color: var(--fill-color);\n",
              "      border-top-color: var(--fill-color);\n",
              "    }\n",
              "    60% {\n",
              "      border-color: transparent;\n",
              "      border-right-color: var(--fill-color);\n",
              "    }\n",
              "    80% {\n",
              "      border-color: transparent;\n",
              "      border-right-color: var(--fill-color);\n",
              "      border-bottom-color: var(--fill-color);\n",
              "    }\n",
              "    90% {\n",
              "      border-color: transparent;\n",
              "      border-bottom-color: var(--fill-color);\n",
              "    }\n",
              "  }\n",
              "</style>\n",
              "\n",
              "  <script>\n",
              "    async function quickchart(key) {\n",
              "      const quickchartButtonEl =\n",
              "        document.querySelector('#' + key + ' button');\n",
              "      quickchartButtonEl.disabled = true;  // To prevent multiple clicks.\n",
              "      quickchartButtonEl.classList.add('colab-df-spinner');\n",
              "      try {\n",
              "        const charts = await google.colab.kernel.invokeFunction(\n",
              "            'suggestCharts', [key], {});\n",
              "      } catch (error) {\n",
              "        console.error('Error during call to suggestCharts:', error);\n",
              "      }\n",
              "      quickchartButtonEl.classList.remove('colab-df-spinner');\n",
              "      quickchartButtonEl.classList.add('colab-df-quickchart-complete');\n",
              "    }\n",
              "    (() => {\n",
              "      let quickchartButtonEl =\n",
              "        document.querySelector('#df-ec60e05a-6bcb-4df6-a145-f13da5ba0abb button');\n",
              "      quickchartButtonEl.style.display =\n",
              "        google.colab.kernel.accessAllowed ? 'block' : 'none';\n",
              "    })();\n",
              "  </script>\n",
              "</div>\n",
              "    </div>\n",
              "  </div>\n"
            ]
          },
          "metadata": {},
          "execution_count": 71
        }
      ]
    },
    {
      "cell_type": "code",
      "source": [
        "worrydata[\"AvgDrinksPerWeek\"] = worrydata[\"AvgDrinksPerWeek\"].astype(\"int\")\n",
        "worrydata[\"FreqWorryCancer\"] = worrydata[\"FreqWorryCancer\"].astype(\"category\")\n",
        "worrydata[\"FreqWorryCancer\"] = worrydata[\"FreqWorryCancer\"].cat.reorder_categories([\"Not at all\", \"Slightly\", \"Somewhat\", \"Moderately\", \"Extremely\"], ordered=True)"
      ],
      "metadata": {
        "id": "fzZLmTpdVWWS"
      },
      "execution_count": 73,
      "outputs": []
    },
    {
      "cell_type": "code",
      "source": [
        "fig = sns.barplot(x=\"FreqWorryCancer\", y=\"AvgDrinksPerWeek\", data=worrydata,\n",
        "                  errorbar=None)"
      ],
      "metadata": {
        "id": "LAxs_eu5V8VT",
        "outputId": "7f4d210c-0810-4e34-d757-ec832ce421e0",
        "colab": {
          "base_uri": "https://localhost:8080/",
          "height": 449
        }
      },
      "execution_count": 74,
      "outputs": [
        {
          "output_type": "display_data",
          "data": {
            "text/plain": [
              "<Figure size 640x480 with 1 Axes>"
            ],
            "image/png": "[encoded data removed]"
          },
          "metadata": {}
        }
      ]
    },
    {
      "cell_type": "markdown",
      "source": [
        "# Reflections\n",
        "Edit this code block to answer the following questions.\n",
        "\n",
        "**1. Was the original visualization that you reproduced from your brief useful for the data that were being represented? Why or why not? How could it have been improved?**\n",
        "\n",
        "\n",
        "\n",
        "**2. For the new visualization you created, what type of visualization did you choose and why did you choose that type?**\n",
        "\n",
        "\n",
        "\n",
        "**3. Were you able to understand the data you were working with based on the brief you chose? Were there any additional data you wish you had to enhance your analysis / visualization?**\n",
        "\n"
      ],
      "metadata": {
        "id": "07PL70A53VPO"
      }
    }
  ]
}