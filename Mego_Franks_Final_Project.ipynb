{
  "nbformat": 4,
  "nbformat_minor": 0,
  "metadata": {
    "colab": {
      "provenance": [],
      "include_colab_link": true
    },
    "kernelspec": {
      "name": "python3",
      "display_name": "Python 3"
    },
    "language_info": {
      "name": "python"
    }
  },
  "cells": [
    {
      "cell_type": "markdown",
      "metadata": {
        "id": "view-in-github",
        "colab_type": "text"
      },
      "source": [
        "<a href=\"https://colab.research.google.com/github/megoeggo/colab/blob/main/Mego_Franks_Final_Project.ipynb\" target=\"_parent\"><img src=\"https://colab.research.google.com/assets/colab-badge.svg\" alt=\"Open In Colab\"/></a>"
      ]
    },
    {
      "cell_type": "markdown",
      "source": [
        "# Final Project\n",
        "Choose one of the research briefs options below to focus on for this final project:\n",
        "\n",
        "1. [Public Awareness of Alcohol  as a Risk Factor for Cancer](https://hints.cancer.gov/docs/Briefs/HINTS_Brief_47.pdf)\n",
        "\n",
        "Use this dataset to complete the following steps:\n",
        "\n",
        "https://drive.google.com/file/d/1c7Nv3xTjGsYpHlT5oXPFfXurmDbl1AlB/view?usp=sharing\n",
        "\n",
        "1. First, read through the brief you've chosen.\n",
        "2. Next, using what you have learned about cleaning data and creating visualizations, reproduce one of the data visualizations included in your brief. Use the Python libraries we discussed in class for this project (Pandas, matplotlib), though you can also use other libraries as needed. Try to recreate it as faithfully as possible (using the same ranges, numbers, and general layout).\n",
        "3. Then, create another visualization based on a different demographic variable of your choice from the data. This visualization should relate generally to the topic of your brief, but should investigate a new aspect of it from the HINTS dataset. For example, if there was hypothetically a brief about age, amount of weekly exercise, and heart disease, for your final project you could investigate age, amount of exercise, and BMI category for respondents.\n",
        "4. Finally, write a reflection about this project (see reflection prompts below).\n",
        "\n",
        "If needed, you can find the codebook for this dataset here:\n",
        "\n",
        "https://hints.cancer.gov/data/survey-instruments.aspx#H5C4\n",
        "\n",
        "And you can download the original data here:\n",
        "\n",
        "https://hints.cancer.gov/data/Default.aspx\n"
      ],
      "metadata": {
        "id": "TGTe8AvZ1lXW"
      }
    },
    {
      "cell_type": "markdown",
      "source": [
        "# Recreate a visualization\n",
        "\n",
        "Insert your code into the code box below to recreate a visualization from your brief. Make sure to comment your code!"
      ],
      "metadata": {
        "id": "h56cHFewiGBu"
      }
    },
    {
      "cell_type": "code",
      "execution_count": null,
      "metadata": {
        "id": "6HFJk8Xy1fUv",
        "colab": {
          "base_uri": "https://localhost:8080/"
        },
        "outputId": "8eba5ee1-c40b-4bda-9236-bbccb4f75646"
      },
      "outputs": [
        {
          "output_type": "stream",
          "name": "stdout",
          "text": [
            "Requirement already satisfied: seaborn in /usr/local/lib/python3.10/dist-packages (0.12.2)\n",
            "Requirement already satisfied: numpy!=1.24.0,>=1.17 in /usr/local/lib/python3.10/dist-packages (from seaborn) (1.23.5)\n",
            "Requirement already satisfied: pandas>=0.25 in /usr/local/lib/python3.10/dist-packages (from seaborn) (1.5.3)\n",
            "Requirement already satisfied: matplotlib!=3.6.1,>=3.1 in /usr/local/lib/python3.10/dist-packages (from seaborn) (3.7.1)\n",
            "Requirement already satisfied: contourpy>=1.0.1 in /usr/local/lib/python3.10/dist-packages (from matplotlib!=3.6.1,>=3.1->seaborn) (1.1.1)\n",
            "Requirement already satisfied: cycler>=0.10 in /usr/local/lib/python3.10/dist-packages (from matplotlib!=3.6.1,>=3.1->seaborn) (0.12.1)\n",
            "Requirement already satisfied: fonttools>=4.22.0 in /usr/local/lib/python3.10/dist-packages (from matplotlib!=3.6.1,>=3.1->seaborn) (4.43.1)\n",
            "Requirement already satisfied: kiwisolver>=1.0.1 in /usr/local/lib/python3.10/dist-packages (from matplotlib!=3.6.1,>=3.1->seaborn) (1.4.5)\n",
            "Requirement already satisfied: packaging>=20.0 in /usr/local/lib/python3.10/dist-packages (from matplotlib!=3.6.1,>=3.1->seaborn) (23.2)\n",
            "Requirement already satisfied: pillow>=6.2.0 in /usr/local/lib/python3.10/dist-packages (from matplotlib!=3.6.1,>=3.1->seaborn) (9.4.0)\n",
            "Requirement already satisfied: pyparsing>=2.3.1 in /usr/local/lib/python3.10/dist-packages (from matplotlib!=3.6.1,>=3.1->seaborn) (3.1.1)\n",
            "Requirement already satisfied: python-dateutil>=2.7 in /usr/local/lib/python3.10/dist-packages (from matplotlib!=3.6.1,>=3.1->seaborn) (2.8.2)\n",
            "Requirement already satisfied: pytz>=2020.1 in /usr/local/lib/python3.10/dist-packages (from pandas>=0.25->seaborn) (2023.3.post1)\n",
            "Requirement already satisfied: six>=1.5 in /usr/local/lib/python3.10/dist-packages (from python-dateutil>=2.7->matplotlib!=3.6.1,>=3.1->seaborn) (1.16.0)\n"
          ]
        }
      ],
      "source": [
        "# code for recreating a visualization\n",
        "\n",
        "# first import libraries\n",
        "\n",
        "!pip install seaborn\n",
        "import pandas as pd\n",
        "import numpy as np\n",
        "import seaborn as sns\n",
        "import matplotlib.pyplot as plt\n",
        "import matplotlib as mpl\n",
        "from matplotlib import style"
      ]
    },
    {
      "cell_type": "code",
      "source": [
        "# now import data\n",
        "\n",
        "hints_data_raw = pd.read_csv(\"/content/hints5_cycle4_final_project.csv\")"
      ],
      "metadata": {
        "id": "0Vpnyd_VWMBP"
      },
      "execution_count": null,
      "outputs": []
    },
    {
      "cell_type": "code",
      "source": [
        "# create a subset of the data to look at just the average drinks per week column\n",
        "\n",
        "hints_data_drinks = hints_data_raw[[\"AvgDrinksPerWeek\"]]"
      ],
      "metadata": {
        "id": "G1aevs7Z5otY"
      },
      "execution_count": null,
      "outputs": []
    },
    {
      "cell_type": "code",
      "source": [
        "# replace all missing data with a negative number, so it will work with a numeric loop\n",
        "\n",
        "hints_data_drinks = hints_data_drinks.apply(lambda x: x.replace({\"^.*Missing Data.*$\":-1}, regex=True))\n",
        "\n"
      ],
      "metadata": {
        "id": "gAYMC8kdLTBB"
      },
      "execution_count": null,
      "outputs": []
    },
    {
      "cell_type": "code",
      "source": [
        "# also turn the data type to numeric so that the loop works\n",
        "\n",
        "hints_data_drinks = hints_data_drinks.apply(pd.to_numeric, errors='coerce')\n",
        "\n",
        "hints_data_drinks.dtypes"
      ],
      "metadata": {
        "colab": {
          "base_uri": "https://localhost:8080/"
        },
        "id": "lvnU3cxKL8nx",
        "outputId": "30cecc26-f157-49db-8d8a-596a287c4f4c"
      },
      "execution_count": null,
      "outputs": [
        {
          "output_type": "execute_result",
          "data": {
            "text/plain": [
              "AvgDrinksPerWeek    float64\n",
              "dtype: object"
            ]
          },
          "metadata": {},
          "execution_count": 9
        }
      ]
    },
    {
      "cell_type": "code",
      "source": [
        "# define the aforementioned loop - this will turn the data into the ranges seen in the infographic; 0 drinks a week, 1-10 drinks a week, etc.\n",
        "\n",
        "def drink_ranges(AvgDrinksPerWeek):\n",
        "  if AvgDrinksPerWeek == 0:\n",
        "    return \"0\"\n",
        "  if AvgDrinksPerWeek >= 1 and AvgDrinksPerWeek <= 10:\n",
        "    return \"1-10\"\n",
        "  if AvgDrinksPerWeek >= 11 and AvgDrinksPerWeek <= 20:\n",
        "    return \"11-20\"\n",
        "  if AvgDrinksPerWeek >= 21 and AvgDrinksPerWeek <=30:\n",
        "    return \"21-30\"\n",
        "  if AvgDrinksPerWeek >= 31:\n",
        "    return \"31+\"\n",
        "  else:\n",
        "    return \"Missing Data\"\n"
      ],
      "metadata": {
        "id": "tiQKfe1eCoGs"
      },
      "execution_count": null,
      "outputs": []
    },
    {
      "cell_type": "code",
      "source": [
        "# this for loop does the work of turning the data points into their assigned ranges\n",
        "\n",
        "ranges_list = []\n",
        "for categ in hints_data_drinks.AvgDrinksPerWeek.items():\n",
        "  ranges_list.append(drink_ranges(categ[1]))\n",
        "\n",
        "print(ranges_list)"
      ],
      "metadata": {
        "colab": {
          "base_uri": "https://localhost:8080/"
        },
        "id": "PqcgWBfBMDox",
        "outputId": "c65dfcd9-ef38-4dd6-ba52-b9408c644830"
      },
      "execution_count": null,
      "outputs": [
        {
          "output_type": "stream",
          "name": "stdout",
          "text": [
            "['11-20', '0', '1-10', '1-10', '0', '1-10', '1-10', '0', '1-10', '0', '1-10', '1-10', '11-20', '0', '0', '1-10', '0', '1-10', 'Missing Data', '0', '1-10', '1-10', '0', '0', '1-10', '1-10', '1-10', '0', '0', '1-10', '0', '0', '1-10', '0', '0', '0', '11-20', '0', '1-10', '0', '1-10', '11-20', '1-10', '0', '1-10', '0', '1-10', '0', '0', '0', '0', '0', '1-10', '0', '0', '0', '1-10', '1-10', '0', '1-10', '0', 'Missing Data', '0', '1-10', '1-10', '1-10', '0', '11-20', '1-10', '0', '1-10', '0', '0', '1-10', '0', '1-10', '1-10', '0', '1-10', '1-10', '0', '0', '1-10', '0', '1-10', '1-10', '0', '0', '0', '1-10', '1-10', '1-10', '0', '0', '11-20', '0', '0', '0', '0', 'Missing Data', '1-10', '0', '0', '0', 'Missing Data', '11-20', '0', 'Missing Data', '0', '0', '1-10', '1-10', '11-20', '0', '11-20', '0', '0', '21-30', '0', '0', '1-10', '1-10', '0', '1-10', '0', '0', '0', '0', '0', '0', '0', '1-10', '1-10', '1-10', '1-10', '1-10', '0', '0', '0', '0', '1-10', 'Missing Data', '0', '0', '0', '1-10', '0', '1-10', '0', '0', '1-10', '0', '1-10', '21-30', '1-10', '0', '0', 'Missing Data', '0', '0', '1-10', '1-10', '1-10', '0', '1-10', '0', '1-10', '1-10', '0', '0', '0', '0', '1-10', '0', '0', '0', 'Missing Data', '0', '0', '0', '0', '0', '0', '0', '0', '0', '0', '0', '0', '0', '1-10', 'Missing Data', '0', '0', '0', '1-10', '0', '0', '0', '0', 'Missing Data', '0', '0', 'Missing Data', '0', 'Missing Data', '0', '1-10', '1-10', '1-10', '1-10', '0', '0', '0', '0', '0', '0', '0', '0', 'Missing Data', '0', '0', '0', '0', '0', '1-10', '0', '11-20', 'Missing Data', '1-10', '1-10', 'Missing Data', '0', '0', 'Missing Data', 'Missing Data', 'Missing Data', '0', '0', 'Missing Data', '1-10', '11-20', '0', '1-10', '1-10', '0', '0', '0', '1-10', '1-10', '0', '0', '0', '0', '0', '1-10', '0', '0', '0', 'Missing Data', '1-10', '0', '11-20', '0', '0', '0', '1-10', '1-10', '1-10', 'Missing Data', '1-10', '1-10', 'Missing Data', '0', '0', '1-10', '1-10', '1-10', '1-10', '0', '0', '21-30', '1-10', '0', '0', '1-10', '11-20', 'Missing Data', '0', '11-20', 'Missing Data', '1-10', 'Missing Data', '0', '0', '1-10', '0', '1-10', '21-30', '1-10', '0', '0', '1-10', '0', '31+', '1-10', '0', '0', '0', '1-10', '11-20', '0', '0', '11-20', 'Missing Data', '1-10', 'Missing Data', 'Missing Data', '1-10', '1-10', '1-10', '1-10', '0', '1-10', 'Missing Data', '0', '0', '11-20', '1-10', '0', '1-10', '0', '1-10', '0', '1-10', '0', '1-10', '0', '1-10', '0', '1-10', '0', '0', 'Missing Data', '0', '1-10', '31+', '0', '1-10', '0', '0', '0', '1-10', 'Missing Data', 'Missing Data', '0', '0', '0', '0', '1-10', '0', '1-10', '0', 'Missing Data', '0', '1-10', '0', '0', '0', '1-10', '0', '21-30', '0', '11-20', '0', '0', '0', '21-30', '0', '0', '21-30', '11-20', '0', '1-10', '0', '1-10', '0', 'Missing Data', '11-20', '0', '0', 'Missing Data', '1-10', '0', '0', '0', '1-10', '1-10', '0', '0', '0', '0', '0', '0', '0', '0', '0', '0', '0', '0', '1-10', '1-10', 'Missing Data', '1-10', '1-10', '0', 'Missing Data', '0', 'Missing Data', '11-20', '0', '0', '1-10', 'Missing Data', '0', '0', '0', '21-30', '1-10', 'Missing Data', '0', '0', '0', '0', '0', '0', '0', '1-10', '1-10', '0', '0', '0', '1-10', '0', '0', '0', '0', '1-10', '0', '1-10', '0', '0', '0', '0', '1-10', 'Missing Data', '0', '0', '0', '0', '1-10', 'Missing Data', 'Missing Data', '0', '0', '0', 'Missing Data', '0', '0', '1-10', 'Missing Data', '1-10', '0', 'Missing Data', '11-20', '0', '31+', 'Missing Data', '0', '0', '0', '0', '1-10', '0', '1-10', 'Missing Data', '0', '11-20', 'Missing Data', '0', '1-10', 'Missing Data', '1-10', '0', '0', '0', '0', '1-10', '0', '0', '1-10', '1-10', '0', '0', '1-10', 'Missing Data', '0', 'Missing Data', '0', '0', '0', '1-10', '1-10', '0', '0', '1-10', '0', '0', '1-10', '0', '0', '0', '0', '0', '0', '0', 'Missing Data', '0', '0', '1-10', '0', '0', '1-10', '1-10', '0', '1-10', '0', '1-10', '0', '0', '0', '0', '1-10', '1-10', '21-30', 'Missing Data', '0', '0', '1-10', '0', '11-20', '1-10', '0', '0', 'Missing Data', '0', '0', '0', '0', '0', '0', '0', '0', '0', '1-10', '1-10', 'Missing Data', '1-10', '1-10', '1-10', '0', '1-10', '1-10', '1-10', '0', '0', '0', '0', '0', '1-10', 'Missing Data', '0', '0', '0', 'Missing Data', 'Missing Data', '0', 'Missing Data', 'Missing Data', '0', '11-20', '0', '0', '1-10', '0', '21-30', 'Missing Data', '1-10', '1-10', '0', '0', '0', '0', 'Missing Data', '0', '0', '0', '0', 'Missing Data', '1-10', '0', '0', '1-10', '0', '0', '0', '0', '1-10', 'Missing Data', 'Missing Data', '0', '0', 'Missing Data', 'Missing Data', 'Missing Data', '0', '1-10', '0', '0', '1-10', '1-10', '0', '1-10', '0', '1-10', '0', '0', '0', '0', '0', 'Missing Data', '11-20', '0', '0', '0', '1-10', '0', 'Missing Data', 'Missing Data', '1-10', '1-10', '1-10', '0', '0', '0', '0', '0', '0', '0', '1-10', '0', '0', '0', '1-10', 'Missing Data', 'Missing Data', '0', '0', 'Missing Data', '0', '0', '1-10', 'Missing Data', '1-10', '1-10', '0', '0', '0', '0', '0', 'Missing Data', '1-10', '0', '0', '0', 'Missing Data', '0', '0', '0', '0', '0', '0', '0', '0', '1-10', '0', 'Missing Data', '1-10', '0', 'Missing Data', '0', '0', '0', '0', '1-10', '1-10', '0', '0', 'Missing Data', '0', 'Missing Data', 'Missing Data', '0', '0', '0', '0', '1-10', '21-30', '1-10', '0', '0', '1-10', '1-10', '0', '0', '0', '0', '11-20', '1-10', 'Missing Data', '1-10', '0', '0', 'Missing Data', '1-10', '0', '1-10', '0', '0', '1-10', '11-20', '1-10', '0', '1-10', '1-10', '1-10', '1-10', '1-10', 'Missing Data', '1-10', '1-10', '0', '0', '1-10', '0', '0', '0', '0', '0', '1-10', '1-10', '0', 'Missing Data', 'Missing Data', '1-10', '0', '0', '0', '11-20', '0', '0', '1-10', '1-10', 'Missing Data', '1-10', '0', '0', '0', '0', 'Missing Data', '1-10', '1-10', '0', 'Missing Data', '1-10', '1-10', '11-20', '0', '0', 'Missing Data', '0', '0', 'Missing Data', 'Missing Data', '0', '0', '0', '1-10', '0', '0', '0', '0', '0', '1-10', '1-10', '0', '0', '1-10', '1-10', '1-10', '1-10', '1-10', 'Missing Data', '1-10', '0', '1-10', '0', '0', '1-10', '0', '0', '1-10', '0', '1-10', '0', '0', '0', '1-10', '0', '1-10', '0', '0', '0', '0', 'Missing Data', 'Missing Data', 'Missing Data', 'Missing Data', '0', '1-10', '0', '1-10', '1-10', '0', '0', 'Missing Data', '0', '1-10', '0', '21-30', 'Missing Data', 'Missing Data', '0', '0', '0', '0', '1-10', '1-10', '0', '0', '0', '1-10', '0', '11-20', '0', 'Missing Data', '0', '0', '0', '1-10', '0', '0', '0', '0', '0', '0', '0', '0', '1-10', '0', '0', '21-30', 'Missing Data', '0', '0', '0', '1-10', '0', 'Missing Data', '1-10', '0', '0', '0', '1-10', '0', '0', '1-10', '1-10', '1-10', '0', '0', '0', 'Missing Data', '1-10', '0', '0', 'Missing Data', 'Missing Data', '0', '0', '0', '0', '0', '0', '0', '0', '0', '1-10', '0', '1-10', '1-10', '0', '1-10', '0', '0', '0', '0', '0', '0', 'Missing Data', 'Missing Data', '0', '1-10', '1-10', '1-10', '1-10', '1-10', 'Missing Data', '1-10', '1-10', '0', '0', '1-10', 'Missing Data', '0', '0', '0', '1-10', '1-10', '0', '0', '0', '0', '0', '0', '0', '0', '0', '1-10', '0', '1-10', '0', '1-10', '0', '1-10', '0', '1-10', '1-10', 'Missing Data', '1-10', '0', '1-10', '0', '0', 'Missing Data', '0', '0', '0', '0', 'Missing Data', '1-10', '11-20', '1-10', '0', '0', '0', '0', '0', '0', 'Missing Data', '1-10', '11-20', 'Missing Data', 'Missing Data', '1-10', '0', '1-10', '0', '11-20', 'Missing Data', '21-30', 'Missing Data', '0', '0', '0', '0', '1-10', '0', '0', '0', '1-10', '0', '0', 'Missing Data', '0', '1-10', '0', '0', '1-10', '1-10', '0', '0', '1-10', '1-10', '1-10', '0', 'Missing Data', 'Missing Data', '0', '0', '0', '1-10', 'Missing Data', '0', '0', '0', 'Missing Data', '0', '1-10', '0', '0', '1-10', '31+', 'Missing Data', '0', 'Missing Data', '1-10', '1-10', '31+', '1-10', '0', '1-10', '1-10', '1-10', '0', '0', 'Missing Data', '0', '0', '0', 'Missing Data', '1-10', '0', '0', '0', '31+', '1-10', 'Missing Data', '0', '11-20', '0', '0', '0', '0', 'Missing Data', '1-10', 'Missing Data', '0', '11-20', '0', '1-10', '0', '0', '0', '0', '0', '1-10', '1-10', '0', '0', '1-10', '1-10', '1-10', '1-10', '0', '0', '0', '0', '0', '0', '0', 'Missing Data', '0', '21-30', '0', '1-10', '1-10', '1-10', 'Missing Data', '0', '1-10', 'Missing Data', '1-10', '1-10', 'Missing Data', 'Missing Data', '0', '0', '0', '0', '0', '0', '0', '0', '0', '0', '0', '0', '1-10', 'Missing Data', '0', '0', '1-10', 'Missing Data', '0', '0', 'Missing Data', '1-10', '1-10', '0', '0', '0', '0', '0', '0', '1-10', '0', '0', '0', '0', '1-10', '1-10', 'Missing Data', '0', '0', '0', '0', '1-10', '0', '0', '1-10', '0', '0', 'Missing Data', '0', '1-10', '1-10', '1-10', '1-10', '1-10', 'Missing Data', '0', 'Missing Data', '0', '0', '1-10', 'Missing Data', '0', '0', '0', '1-10', '1-10', '1-10', '0', '1-10', '0', '0', '1-10', '1-10', '1-10', '0', 'Missing Data', '0', '0', '0', '1-10', '1-10', '0', '0', '0', 'Missing Data', '0', '0', '0', '1-10', '0', '0', '0', '0', '1-10', '1-10', 'Missing Data', 'Missing Data', '1-10', '0', 'Missing Data', '1-10', '0', '0', '1-10', '0', '0', '0', '0', '1-10', '0', '1-10', '0', '11-20', '0', '1-10', '1-10', '0', '0', '0', '0', '1-10', '0', '1-10', '0', '11-20', 'Missing Data', '0', 'Missing Data', '0', '1-10', '1-10', '0', 'Missing Data', '0', '0', '0', '1-10', '0', '0', '0', 'Missing Data', 'Missing Data', '0', 'Missing Data', '1-10', '0', '1-10', '0', '0', '1-10', '1-10', 'Missing Data', '0', '0', '1-10', '0', 'Missing Data', '0', '0', '0', '1-10', 'Missing Data', 'Missing Data', '0', '0', '0', 'Missing Data', '1-10', '31+', '0', '1-10', '0', '1-10', '1-10', '0', '0', '1-10', '0', '1-10', '0', '0', '0', '0', '0', '0', '1-10', '1-10', '1-10', '1-10', '11-20', '1-10', '11-20', 'Missing Data', 'Missing Data', '0', '0', '1-10', '0', 'Missing Data', 'Missing Data', '1-10', '1-10', '1-10', '0', '0', '0', '1-10', 'Missing Data', '1-10', '0', '1-10', '0', '1-10', '0', 'Missing Data', '0', '0', '0', '0', '0', '1-10', '1-10', '1-10', '0', '0', '1-10', '0', '0', '0', '0', '1-10', '0', '0', '1-10', '0', '1-10', '1-10', '1-10', '1-10', '1-10', '1-10', '0', '1-10', '11-20', '1-10', '1-10', '0', 'Missing Data', '0', '0', '21-30', '0', '11-20', '0', '1-10', '0', '0', '0', '1-10', '1-10', '0', '1-10', '1-10', '0', '1-10', '11-20', '1-10', '0', '0', '0', '0', '1-10', '1-10', '0', '11-20', '1-10', '11-20', '1-10', '0', '1-10', '0', '0', '0', '1-10', '1-10', '0', '1-10', '0', '0', '11-20', '11-20', '0', '0', '11-20', '1-10', '0', '1-10', '0', '0', '1-10', '0', '0', '1-10', '11-20', '0', '0', '1-10', '1-10', '0', '1-10', '1-10', '0', '1-10', '1-10', '1-10', 'Missing Data', '0', '0', '0', '1-10', '1-10', 'Missing Data', '1-10', '1-10', '1-10', 'Missing Data', '0', '1-10', '0', '1-10', '1-10', '1-10', '1-10', '1-10', '1-10', '21-30', '0', '0', '1-10', '0', '0', '0', '0', '0', '11-20', '0', '1-10', '0', '0', '11-20', '0', '0', 'Missing Data', '0', '0', '1-10', '0', '1-10', '1-10', '0', '11-20', '11-20', '1-10', '0', '0', '1-10', '1-10', '0', '1-10', '11-20', '1-10', '0', '1-10', '11-20', '11-20', '1-10', '0', '1-10', '11-20', '1-10', 'Missing Data', '0', 'Missing Data', '1-10', '1-10', '1-10', '1-10', '0', '1-10', 'Missing Data', '0', '0', '1-10', '1-10', '1-10', '0', '1-10', 'Missing Data', '0', '0', '1-10', '0', '1-10', 'Missing Data', '0', '0', '11-20', '1-10', '1-10', '1-10', '1-10', '0', '0', '1-10', '0', '1-10', '31+', '0', '0', '0', '1-10', '0', '1-10', '0', '0', '0', 'Missing Data', '1-10', '0', '1-10', '21-30', '0', '1-10', '0', '1-10', 'Missing Data', '1-10', 'Missing Data', '1-10', '1-10', '0', '0', '0', '1-10', '0', '1-10', '1-10', '11-20', '1-10', '1-10', '11-20', '1-10', '0', '1-10', '0', 'Missing Data', '0', '0', '0', '1-10', '21-30', '0', '0', '0', '0', '1-10', '1-10', '1-10', '0', '1-10', '1-10', '1-10', '1-10', '0', 'Missing Data', '21-30', '0', '1-10', '1-10', '0', '1-10', '0', '0', 'Missing Data', '0', '0', '1-10', '1-10', '0', '0', '0', '1-10', '0', '0', '0', '11-20', '1-10', '1-10', '0', '1-10', '0', '0', '1-10', 'Missing Data', '0', '0', '1-10', '21-30', '0', '1-10', 'Missing Data', '1-10', '1-10', '1-10', '0', '0', '1-10', '0', 'Missing Data', '0', 'Missing Data', 'Missing Data', '11-20', '1-10', '0', '0', '0', '0', '1-10', '1-10', '1-10', '1-10', '0', '1-10', '0', 'Missing Data', '1-10', '1-10', '0', '0', '1-10', '1-10', '0', '1-10', '0', '11-20', '0', 'Missing Data', '0', '1-10', '0', '11-20', '21-30', 'Missing Data', '1-10', 'Missing Data', '0', '1-10', '1-10', '11-20', '0', '11-20', '11-20', '31+', '0', '0', '0', '21-30', '1-10', '0', '21-30', '1-10', '1-10', '0', '1-10', '0', '1-10', '0', '1-10', '1-10', '0', '0', '0', '1-10', '1-10', '1-10', '0', '0', 'Missing Data', '1-10', '0', '1-10', '0', '1-10', '1-10', '1-10', '1-10', '0', '0', '0', '1-10', '11-20', '0', '0', '0', '31+', '0', '0', '11-20', '1-10', 'Missing Data', '0', '0', 'Missing Data', '1-10', 'Missing Data', '1-10', '1-10', '1-10', '11-20', '0', '1-10', '1-10', '1-10', '0', '0', '1-10', '0', '11-20', '0', '0', '1-10', '0', '0', '0', '21-30', '1-10', '1-10', '0', '0', '11-20', '1-10', '0', '1-10', '1-10', '0', '0', '0', '1-10', '11-20', '0', '1-10', '0', '0', '1-10', 'Missing Data', '1-10', '0', '1-10', '0', '0', '1-10', '0', '0', '1-10', 'Missing Data', '21-30', '1-10', '1-10', '1-10', '11-20', '1-10', '0', '0', '1-10', '0', '0', '1-10', '1-10', '1-10', 'Missing Data', '1-10', '0', '0', '1-10', '1-10', '1-10', '1-10', '11-20', '1-10', '0', '1-10', '0', '1-10', '1-10', '1-10', '1-10', '0', '0', '1-10', '0', '1-10', '11-20', 'Missing Data', '11-20', '1-10', '11-20', '1-10', 'Missing Data', '0', '0', '1-10', '0', '1-10', '1-10', '1-10', '11-20', '0', '1-10', '1-10', '0', '0', '1-10', '1-10', '0', '1-10', 'Missing Data', '1-10', '0', '0', '0', '1-10', '1-10', '0', '11-20', '1-10', '1-10', '1-10', '0', '1-10', '1-10', '0', 'Missing Data', '1-10', '1-10', '0', 'Missing Data', '1-10', '1-10', '1-10', '1-10', '1-10', '1-10', '1-10', '0', '1-10', '11-20', '0', '21-30', '0', '1-10', '1-10', 'Missing Data', '0', '1-10', '1-10', '1-10', '0', '1-10', '1-10', '0', '21-30', '1-10', '0', '0', '0', '21-30', '0', '0', '0', '21-30', '0', '1-10', '0', '1-10', '0', '21-30', '1-10', '0', '1-10', '0', '1-10', '0', '0', '1-10', '1-10', '11-20', 'Missing Data', '0', '11-20', '1-10', '0', '1-10', '11-20', '1-10', '0', '0', '0', '1-10', '0', '0', '1-10', '0', '21-30', '1-10', '0', 'Missing Data', '31+', '31+', '11-20', '0', '0', '0', '1-10', '0', 'Missing Data', '0', '0', '11-20', '0', '0', '0', '0', '0', '1-10', 'Missing Data', '11-20', '0', '0', '1-10', '1-10', '1-10', '0', '0', '1-10', '0', '21-30', '0', '11-20', '0', '1-10', '0', '0', '1-10', '0', '1-10', '1-10', '1-10', '1-10', '0', '0', '0', '0', '0', '11-20', '31+', '1-10', '1-10', '1-10', '31+', '0', '0', '31+', '1-10', '1-10', '0', '0', '0', '0', '1-10', '11-20', '0', '0', '1-10', '0', '1-10', '0', '0', '0', '0', '0', '0', '1-10', '0', '0', '1-10', '0', '1-10', '0', '11-20', '1-10', '0', '31+', '11-20', '1-10', '0', '0', '0', '1-10', 'Missing Data', '21-30', '0', '0', '1-10', '0', '0', '0', '0', '0', '0', '0', '0', '0', '0', '1-10', 'Missing Data', '11-20', 'Missing Data', '1-10', '1-10', '0', '1-10', '1-10', '0', '0', '0', '1-10', '0', '1-10', '0', '1-10', '0', '0', '1-10', '1-10', '0', 'Missing Data', 'Missing Data', '1-10', '11-20', '1-10', '21-30', '0', '0', '11-20', '0', '0', '1-10', 'Missing Data', '0', '0', 'Missing Data', '11-20', '1-10', '1-10', '11-20', '1-10', '1-10', '0', '1-10', '0', '1-10', '1-10', '1-10', '0', '11-20', '1-10', '1-10', '0', '1-10', '0', '0', '1-10', '1-10', '0', '0', '11-20', '1-10', '21-30', '0', '0', '1-10', '0', 'Missing Data', '0', 'Missing Data', '1-10', 'Missing Data', '0', '0', '21-30', '1-10', '11-20', '1-10', '0', '1-10', '11-20', '0', '1-10', '0', '1-10', '1-10', '1-10', '1-10', '0', '21-30', '0', '0', '0', '0', '0', '11-20', '0', '1-10', '1-10', '0', '1-10', '1-10', '0', '1-10', '1-10', '0', '1-10', '1-10', '1-10', '0', '11-20', '11-20', '1-10', '0', '0', '1-10', '1-10', '0', '1-10', '0', '1-10', '0', '0', '1-10', '0', '0', '1-10', '0', '21-30', '1-10', '1-10', '0', '0', '1-10', '0', '1-10', '0', '1-10', '0', '0', 'Missing Data', '0', '0', '0', '0', '1-10', '1-10', '1-10', '0', '11-20', '1-10', '0', '0', '1-10', 'Missing Data', '0', '1-10', '0', '0', '0', '0', 'Missing Data', '1-10', '0', '0', '1-10', '31+', '1-10', '0', '0', '1-10', '1-10', '1-10', '1-10', '0', '0', '0', '1-10', '0', '1-10', '1-10', '21-30', '31+', '0', '1-10', '0', '1-10', '0', '0', '11-20', '21-30', '0', '1-10', '1-10', '0', '0', '1-10', '1-10', '0', 'Missing Data', '0', '1-10', '0', '1-10', 'Missing Data', '1-10', '1-10', '1-10', 'Missing Data', '1-10', '0', '0', '1-10', '1-10', '0', '0', '0', '1-10', '0', '11-20', '1-10', '0', '0', '0', '1-10', '1-10', '0', '0', '0', '1-10', '1-10', '0', '1-10', '0', '0', '0', '11-20', '1-10', '1-10', '0', '1-10', '1-10', '0', 'Missing Data', '0', '1-10', '1-10', '0', '1-10', '1-10', '0', '0', '0', '0', '1-10', '1-10', '21-30', '0', '0', '0', '0', '31+', '1-10', '0', '1-10', '0', 'Missing Data', '0', '0', '0', '1-10', '1-10', '1-10', '1-10', '1-10', '1-10', '1-10', 'Missing Data', 'Missing Data', '0', '11-20', '0', 'Missing Data', '1-10', '1-10', '1-10', '1-10', '0', '1-10', '1-10', '21-30', '1-10', '0', 'Missing Data', '0', '1-10', '0', '1-10', '0', '1-10', '1-10', '21-30', '0', '1-10', '1-10', '1-10', '1-10', '1-10', '11-20', '1-10', 'Missing Data', '0', '0', '11-20', '0', '1-10', '1-10', '1-10', 'Missing Data', '0', '1-10', '0', '0', '1-10', '0', '0', '1-10', '0', '0', '0', '1-10', '1-10', '1-10', '0', '11-20', '11-20', '1-10', '1-10', '1-10', '11-20', '1-10', '1-10', 'Missing Data', '0', '21-30', '1-10', '0', '0', '0', '21-30', '0', '0', '11-20', '0', '1-10', '0', '1-10', '1-10', '0', '0', '21-30', '0', '1-10', '0', '0', '0', '1-10', '0', '0', '0', '1-10', '1-10', '0', '11-20', '1-10', '0', '1-10', '1-10', '0', '1-10', 'Missing Data', '0', '0', '11-20', '1-10', '0', '1-10', '0', '11-20', '1-10', '0', '1-10', '21-30', '0', '21-30', '0', '1-10', '1-10', '0', '0', '0', '0', '0', '1-10', '21-30', '1-10', 'Missing Data', '21-30', '1-10', '21-30', '0', '0', '1-10', 'Missing Data', '1-10', '0', '1-10', '1-10', '1-10', '0', '1-10', '0', '1-10', '0', '0', 'Missing Data', '11-20', '1-10', 'Missing Data', '1-10', '1-10', '1-10', '11-20', '21-30', 'Missing Data', '21-30', '1-10', '1-10', '1-10', 'Missing Data', '21-30', '0', '1-10', '0', '0', '1-10', '1-10', '1-10', '21-30', '0', '1-10', '1-10', '0', '0', '1-10', '1-10', '0', '0', '1-10', '1-10', '21-30', '11-20', '0', '0', '0', '0', '1-10', '21-30', '0', '1-10', 'Missing Data', '0', '0', '1-10', '0', '0', '1-10', '0', '0', '1-10', '0', '0', 'Missing Data', '0', '0', '0', '1-10', '1-10', '1-10', '0', '1-10', 'Missing Data', '0', '0', '11-20', '1-10', '0', '0', 'Missing Data', 'Missing Data', '0', '0', '0', '0', '1-10', '0', '1-10', '0', '1-10', 'Missing Data', 'Missing Data', '1-10', 'Missing Data', '0', '1-10', '0', '0', '11-20', '0', '1-10', '21-30', 'Missing Data', '1-10', 'Missing Data', '0', '0', '0', '11-20', '1-10', '1-10', '11-20', '1-10', '0', '0', '1-10', '0', '11-20', '1-10', '11-20', '0', '0', '0', '0', '1-10', '0', '0', '1-10', '0', '0', '1-10', '0', '0', '0', '0', '0', '1-10', 'Missing Data', 'Missing Data', '1-10', '0', 'Missing Data', '0', '1-10', '1-10', '1-10', '0', '1-10', '1-10', '1-10', '1-10', '0', '0', '11-20', '1-10', '0', '1-10', '0', 'Missing Data', '1-10', '0', '11-20', '11-20', 'Missing Data', '0', '11-20', '0', '1-10', 'Missing Data', '0', '1-10', '1-10', 'Missing Data', '0', '0', '1-10', '1-10', '0', '0', '21-30', '0', '1-10', '1-10', '0', '0', '1-10', '0', '0', '0', '0', '1-10', '1-10', '1-10', '11-20', '0', '1-10', '1-10', '1-10', '1-10', '0', '0', '0', '0', '0', '0', '1-10', '0', '1-10', '11-20', '1-10', '11-20', '11-20', '1-10', '0', '0', '1-10', '1-10', '1-10', 'Missing Data', '0', '1-10', '1-10', '1-10', '1-10', '1-10', '0', '0', '1-10', '0', '0', '1-10', '1-10', '0', '0', '0', '1-10', '0', '11-20', '0', '1-10', '1-10', '1-10', '1-10', '0', '0', '0', '0', '0', '21-30', '1-10', '0', '1-10', '1-10', '0', '0', '0', '0', '1-10', '1-10', '1-10', '1-10', '1-10', '1-10', '0', '1-10', '1-10', '0', '0', '0', '1-10', '1-10', '1-10', '0', '11-20', '0', '1-10', 'Missing Data', '0', 'Missing Data', '0', '1-10', 'Missing Data', '1-10', '0', '0', '0', '1-10', '1-10', '11-20', '11-20', '0', '0', '11-20', '0', '11-20', '0', '1-10', '31+', '1-10', '1-10', '1-10', '1-10', '1-10', '1-10', '0', '0', '0', '1-10', '0', '0', 'Missing Data', '0', '1-10', '31+', '1-10', '0', 'Missing Data', '0', '1-10', '1-10', '11-20', '1-10', '0', '1-10', '1-10', '0', '1-10', '1-10', '0', '0', '0', '1-10', 'Missing Data', '1-10', '0', 'Missing Data', '0', '0', '1-10', '0', '1-10', '1-10', 'Missing Data', '31+', 'Missing Data', '1-10', '11-20', '1-10', '0', '11-20', '0', 'Missing Data', '0', '1-10', '0', '0', '0', '0', '0', '1-10', '0', '0', '1-10', '1-10', '1-10', '0', '1-10', '0', '1-10', '0', '31+', '21-30', '1-10', '0', '0', '1-10', '0', '1-10', '0', '0', '1-10', '0', '1-10', '1-10', '1-10', '0', '0', '0', 'Missing Data', '11-20', '11-20', '1-10', '0', '1-10', '0', '0', '11-20', '0', '1-10', '1-10', '0', '1-10', '11-20', '0', '0', '1-10', '1-10', '0', '0', '1-10', '1-10', '11-20', '11-20', '1-10', '0', '0', '0', '0', '0', '1-10', '0', '0', '0', '0', '0', '0', '0', '0', '1-10', '1-10', '0', '11-20', '31+', '1-10', '31+', '0', '0', '0', 'Missing Data', '1-10', 'Missing Data', '0', '0', '1-10', '0', '1-10', '0', '1-10', '1-10', '1-10', '1-10', '1-10', '0', '1-10', '0', '1-10', 'Missing Data', '0', '0', 'Missing Data', '0', '1-10', '0', '0', '1-10', '0', '0', '1-10', '1-10', '1-10', '31+', '0', '1-10', '1-10', '0', '0', '0', '1-10', '0', '1-10', '21-30', '0', '0', '11-20', '0', '0', '0', '0', '0', '0', '0', '0', '11-20', '0', '11-20', '0', '1-10', '1-10', '1-10', '0', 'Missing Data', '0', '0', '1-10', '0', '21-30', '11-20', '0', '1-10', '1-10', '0', '11-20', '0', '0', 'Missing Data', '1-10', 'Missing Data', '0', '1-10', '0', '0', '0', '0', '0', '0', 'Missing Data', '0', '1-10', '0', '21-30', '1-10', '1-10', '11-20', '0', '0', '1-10', '11-20', '1-10', '1-10', '0', '11-20', '0', '11-20', '1-10', '0', '1-10', '1-10', '0', '0', 'Missing Data', '1-10', 'Missing Data', '0', 'Missing Data', '1-10', 'Missing Data', '1-10', '0', '1-10', '0', '0', '1-10', '0', '0', '21-30', '31+', '0', 'Missing Data', '21-30', '0', '0', '0', 'Missing Data', '0', '1-10', '1-10', '0', '0', '0', '0', '1-10', '0', '0', '0', '0', '11-20', '0', '0', '0', '1-10', '11-20', '0', '0', '0', '0', '0', '0', '1-10', 'Missing Data', '1-10', '0', '1-10', '1-10', '1-10', '1-10', '0', '11-20', '0', '0', '1-10', '0', '0', '1-10', '0', '0', '0', '1-10', '11-20', '0', '1-10', '1-10', '0', '0', '11-20', '1-10', '0', '1-10', '0', '1-10', '0', '0', '0', '1-10', '11-20', '11-20', '1-10', '1-10', '1-10', '1-10', '1-10', 'Missing Data', '1-10', 'Missing Data', '0', '1-10', '1-10', '0', '11-20', '0', '1-10', '11-20', '0', '0', '0', '1-10', '11-20', '0', '0', '1-10', '0', '0', 'Missing Data', '1-10', '0', '0', '1-10', '0', '0', '0', '1-10', '0', '1-10', '0', '0', 'Missing Data', 'Missing Data', '11-20', '21-30', '11-20', '11-20', '1-10', '0', '0', '0', '0', '1-10', '1-10', '0', '0', '0', '21-30', '0', 'Missing Data', 'Missing Data', '1-10', '1-10', '0', '1-10', '0', 'Missing Data', '0', 'Missing Data', '31+', '0', '1-10', '0', '0', '1-10', '1-10', '0', '0', '1-10', '0', '0', '0', '0', '1-10', '11-20', '0', '31+', '0', '1-10', '1-10', '0', '0', '0', 'Missing Data', '1-10', '0', '0', '0', '0', '1-10', '1-10', '0', '0', '1-10', '1-10', '0', '1-10', '1-10', 'Missing Data', '0', '1-10', '11-20', '0', '0', '11-20', '1-10', '1-10', '0', '11-20', '1-10', 'Missing Data', '0', '1-10', '0', '0', 'Missing Data', 'Missing Data', '0', '0', '1-10', '0', '1-10', '0', '0', '0', '1-10', '0', '0', '0', '1-10', '0', '0', '0', '1-10', '31+', '0', '0', '1-10', '0', '0', '0', 'Missing Data', '1-10', '0', '0', '1-10', '0', '0', '0', '1-10', '0', '1-10', '0', '0', '11-20', 'Missing Data', '0', '0', '0', '11-20', '1-10', '31+', '0', 'Missing Data', '0', '0', '1-10', '1-10', 'Missing Data', '0', '1-10', '0', '0', '0', '11-20', 'Missing Data', '1-10', '1-10', '1-10', '0', 'Missing Data', '1-10', '0', '0', '0', '0', '0', '1-10', '1-10', '1-10', '0', '0', '1-10', '0', '0', '0', '1-10', '0', 'Missing Data', '21-30', '0', '0', '1-10', '0', '1-10', '1-10', '1-10', '1-10', '31+', '1-10', 'Missing Data', '11-20', '0', '11-20', '21-30', '11-20', '1-10', '0', '0', '0', '0', '1-10', '0', '1-10', '11-20', '0', '1-10', '0', '21-30', '0', '1-10', '0', '0', '0', '0', 'Missing Data', '0', '0', '11-20', '1-10', '0', '1-10', '0', '1-10', '0', '0', '11-20', '0', '0', '0', '1-10', '0', '0', '0', '11-20', '0', '1-10', '21-30', '0', '1-10', '0', 'Missing Data', '11-20', '1-10', '0', '0', '1-10', '11-20', '11-20', 'Missing Data', '21-30', '1-10', '1-10', '1-10', '1-10', '1-10', '1-10', '1-10', '1-10', '0', '0', '0', '1-10', '0', '0', '1-10', '0', '1-10', '1-10', '0', '1-10', '0', '0', '0', '0', '1-10', '1-10', '0', '1-10', '1-10', '0', '0', '1-10', '1-10', '0', '0', '21-30', 'Missing Data', '1-10', '0', '1-10', 'Missing Data', '1-10', '0', '0', '0', '1-10', '0', '1-10', '1-10', '0', '0', '11-20', '1-10', '1-10', '1-10', '0', '1-10', '1-10', '0', 'Missing Data', '1-10', '1-10', '11-20', '1-10', '21-30', '1-10', '1-10', '0', '0', '1-10', '0', '0', '1-10', '0', '0', '0', '11-20', '0', 'Missing Data', '21-30', '0', '0', '0', '0', '31+', '1-10', '1-10', '0', 'Missing Data', '1-10', '11-20', '0', '1-10', '11-20', '0', 'Missing Data', '11-20', 'Missing Data', '31+', '0', '0', '1-10', '11-20', '1-10', '1-10', '0', '1-10', '0', '0', '11-20', '0', '21-30', '1-10', 'Missing Data', 'Missing Data', '0', '0', '0', '0', 'Missing Data', 'Missing Data', 'Missing Data', '0', '0', '0', 'Missing Data', '0', '1-10', '0', '1-10', '1-10', '0', '0', '1-10', '0', '0', '0', '1-10', '0', 'Missing Data', '1-10', 'Missing Data', '0', '21-30', '0', '0', '0', '0', '0', 'Missing Data', '1-10', '0', '1-10', '1-10', '0', '1-10', '0', 'Missing Data', 'Missing Data', '0', '1-10', 'Missing Data', '1-10', '0', '11-20', 'Missing Data', '1-10', '0', '0', '1-10', 'Missing Data', '1-10', '1-10', '1-10', '0', '0', '0', '0', '0', '0', '1-10', '11-20', '1-10', '1-10', 'Missing Data', 'Missing Data', 'Missing Data', '0', '0', 'Missing Data', 'Missing Data', '0', 'Missing Data', '0', '1-10', '0', '0', '0', '0', '11-20', '11-20', '21-30', '11-20', '1-10', '0', '1-10', '0', 'Missing Data', '11-20', 'Missing Data', 'Missing Data', '0', '1-10', '0', '0', 'Missing Data', '0', '0', '0', '0', 'Missing Data', '0', '0', '0', '21-30', '0', 'Missing Data', 'Missing Data', '0', 'Missing Data', '0', '0', 'Missing Data', '0', '0', '0', 'Missing Data', 'Missing Data', 'Missing Data', '0', 'Missing Data', 'Missing Data', '0', '0', 'Missing Data', 'Missing Data', '0', 'Missing Data', '1-10', '0', 'Missing Data', '0', '0', '0', '0', '0', '0', '1-10', '1-10', '1-10', '0', 'Missing Data', '0', '0', '0', 'Missing Data', '0', '1-10', '1-10', 'Missing Data', 'Missing Data', 'Missing Data', '0', 'Missing Data', 'Missing Data', '1-10', 'Missing Data', '0', 'Missing Data', '0', '11-20', '0', '0', '0', '0', '0', 'Missing Data', '0', 'Missing Data', '1-10', '21-30', '0', '0', '0', 'Missing Data', 'Missing Data', 'Missing Data', 'Missing Data', 'Missing Data', 'Missing Data', 'Missing Data', '0', '0', '0', '0', '0', '0', '21-30', '1-10', '0', '0', 'Missing Data', '0', '0', '0', '0', 'Missing Data', 'Missing Data', 'Missing Data', '0', '1-10', '0', '1-10', 'Missing Data', 'Missing Data', '0', '1-10', '1-10', '1-10', 'Missing Data', '0', '0', 'Missing Data', '0', 'Missing Data', 'Missing Data', '0', '0', 'Missing Data', 'Missing Data', 'Missing Data', '1-10', 'Missing Data', 'Missing Data', '1-10', '1-10', '0', '1-10', '1-10', 'Missing Data', 'Missing Data', '0', 'Missing Data', '0', 'Missing Data', '31+', 'Missing Data', '0', '1-10', '1-10', '0', '0', '1-10', '0', '11-20', '0', 'Missing Data', '0', '1-10', 'Missing Data', '1-10', '1-10', '0', '1-10', 'Missing Data', '0', 'Missing Data', 'Missing Data', '21-30', 'Missing Data', 'Missing Data', '0', '1-10', 'Missing Data', 'Missing Data', 'Missing Data', '0', '0', '0', '0', 'Missing Data', 'Missing Data', '1-10', '0', '0', '0', '0', '0', '0', 'Missing Data', '0', '0', '0', 'Missing Data', 'Missing Data', '1-10', '21-30', '0', '1-10', '0', '0', '0', '0', 'Missing Data', '0', 'Missing Data', '21-30', '0', '0', 'Missing Data', 'Missing Data', '0', '0', '1-10', '0', 'Missing Data', '0', '21-30', 'Missing Data', '0', '0', '0', '0', '0', '0', '1-10', '0', '0', 'Missing Data', 'Missing Data', '0', '0', 'Missing Data', '1-10', '0', 'Missing Data', '1-10', '0', '0', '0', '1-10', 'Missing Data', 'Missing Data', 'Missing Data', 'Missing Data', 'Missing Data', 'Missing Data', '0', '0', 'Missing Data', '0', '0', '1-10', '0', 'Missing Data', '1-10', '0', '0', '1-10', '0', 'Missing Data', '0', '0', '1-10', '0', '1-10', '11-20', '0', 'Missing Data', '0', '1-10', '0', 'Missing Data', '0', '0', '0', 'Missing Data', '0', 'Missing Data', '0']\n"
          ]
        }
      ]
    },
    {
      "cell_type": "code",
      "source": [
        "# this for loop shows the counts for each range\n",
        "\n",
        "range_freq_dict = {}\n",
        "for category in ranges_list:\n",
        "  if category in range_freq_dict:\n",
        "    range_freq_dict[category] += 1\n",
        "  else:\n",
        "    range_freq_dict[category] = 1\n",
        "\n",
        "range_freq_dict"
      ],
      "metadata": {
        "colab": {
          "base_uri": "https://localhost:8080/"
        },
        "id": "eyF2EBQbM5Ir",
        "outputId": "ed78f7ec-78de-418d-ee6c-925a4b2f28c2"
      },
      "execution_count": null,
      "outputs": [
        {
          "output_type": "execute_result",
          "data": {
            "text/plain": [
              "{'11-20': 207,\n",
              " '0': 1866,\n",
              " '1-10': 1239,\n",
              " 'Missing Data': 431,\n",
              " '21-30': 87,\n",
              " '31+': 35}"
            ]
          },
          "metadata": {},
          "execution_count": 23
        }
      ]
    },
    {
      "cell_type": "code",
      "source": [
        "# now we need to make our counts and ranges into variables so we can make a new dataframe\n",
        "\n",
        "bar_range_vals = []\n",
        "bar_count_vals = []\n",
        "for key, value in range_freq_dict.items():\n",
        "  bar_range_vals.append(key)\n",
        "  bar_count_vals.append(value)\n",
        "\n",
        "print(bar_range_vals)\n",
        "print(bar_count_vals)"
      ],
      "metadata": {
        "colab": {
          "base_uri": "https://localhost:8080/"
        },
        "id": "knS1eQ7VN6Mk",
        "outputId": "54390b5a-bd30-4eb5-cbd1-99ec39396652"
      },
      "execution_count": null,
      "outputs": [
        {
          "output_type": "stream",
          "name": "stdout",
          "text": [
            "['11-20', '0', '1-10', 'Missing Data', '21-30', '31+']\n",
            "[207, 1866, 1239, 431, 87, 35]\n"
          ]
        }
      ]
    },
    {
      "cell_type": "code",
      "source": [
        "# make the new dataframe from ranges and counts\n",
        "\n",
        "barchart = pd.DataFrame({\"ranges\": bar_range_vals, \"counts\": bar_count_vals})\n",
        "\n"
      ],
      "metadata": {
        "id": "Nu5afrRrcU8h"
      },
      "execution_count": null,
      "outputs": []
    },
    {
      "cell_type": "code",
      "source": [
        "# define the ranges as the category, and turn the counts into percentages\n",
        "\n",
        "barchart[\"ranges\"] = barchart[\"ranges\"].astype(\"category\")\n",
        "\n",
        "barchart[\"counts\"] = (100. * barchart[\"counts\"] / barchart[\"counts\"].sum()).round(1)\n",
        "\n",
        "\n"
      ],
      "metadata": {
        "id": "Let9rdzJdfeg"
      },
      "execution_count": null,
      "outputs": []
    },
    {
      "cell_type": "code",
      "source": [
        "# reorder the range categories into a logical order\n",
        "\n",
        "barchart[\"ranges\"] = barchart[\"ranges\"].cat.reorder_categories([\"0\", \"1-10\", \"11-20\", \"21-30\", \"31+\", \"Missing Data\"], ordered=True)\n",
        "\n"
      ],
      "metadata": {
        "id": "iKrvM-c4eGf3"
      },
      "execution_count": null,
      "outputs": []
    },
    {
      "cell_type": "code",
      "source": [
        "# for our chart we want all the bars except the last one to be the same color, so define the color palette now\n",
        "\n",
        "color = [\"#0a49c7\", \"#0a49c7\", \"#0a49c7\", \"#0a49c7\", \"#0a49c7\", \"gray\"]"
      ],
      "metadata": {
        "id": "PY5AHRfpgGaS"
      },
      "execution_count": null,
      "outputs": []
    },
    {
      "cell_type": "code",
      "source": [
        "# create the barplot and add styling\n",
        "\n",
        "qc = sns.barplot(y=\"ranges\", x=\"counts\", data=barchart,\n",
        "            errorbar=None,\n",
        "            palette=color,\n",
        "               width=.5,\n",
        "                );\n",
        "plt.bar_label(qc.containers[0], fmt=\"%.1f%%\")\n",
        "plt.suptitle(\"Alcohol Consumption by American Adults (2020)\", color=\"#0a49c7\")\n",
        "plt.title(\"Number of drinks* per week\", color=\"gray\", size=\"small\")\n",
        "plt.ylabel(\" \")\n",
        "plt.xlabel(\" \")\n",
        "plt.tick_params(left = False)\n",
        "qc.axes.get_xaxis().set_visible(False)\n",
        "qc.axes.spines[\"top\"].set_visible(False)\n",
        "qc.axes.spines[\"bottom\"].set_visible(False)\n",
        "qc.axes.spines[\"right\"].set_visible(False)\n",
        "plt.figtext(0.01,0.01, \"*One drink can be 12 fl oz of regular beer; 8-9 fl oz of malt liquor; 5 fl oz of table wine; or 1.5 oz of 80-proof distilled spirits. Source: HINTS 5 Cycle 4, 2020\", wrap=True, fontsize=8)\n",
        "plt.show()"
      ],
      "metadata": {
        "colab": {
          "base_uri": "https://localhost:8080/",
          "height": 506
        },
        "id": "beOZeK3c8Ney",
        "outputId": "474cb905-5905-499a-8be7-d4b9a1ec8d9d"
      },
      "execution_count": null,
      "outputs": [
        {
          "output_type": "display_data",
          "data": {
            "text/plain": [
              "<Figure size 640x480 with 1 Axes>"
            ],
            "image/png": "[encoded data removed]"
          },
          "metadata": {}
        }
      ]
    },
    {
      "cell_type": "markdown",
      "source": [
        "# Your explanation for the new visualization\n",
        "\n",
        "**What does your new visualization show?**\n",
        "\n",
        "The relationship between how mnay drinks someone consumes per week, and how worried they are about getting cancer."
      ],
      "metadata": {
        "id": "eL5d9AoO6oZv"
      }
    },
    {
      "cell_type": "markdown",
      "source": [
        "# Your code for the new visualization\n",
        "\n",
        "Insert your code in the code block below to create a new visualization based on a different demographic variable of your choice. Make sure to comment your code!"
      ],
      "metadata": {
        "id": "_QQfSwNWhZt7"
      }
    },
    {
      "cell_type": "code",
      "source": [
        "# new visualization code\n",
        "\n",
        "worrydata = hints_data_raw[\"FreqWorryCancer\"]\n",
        "\n",
        "worrydata.value_counts()\n",
        "\n"
      ],
      "metadata": {
        "id": "YqNgZo6k2wnq",
        "outputId": "6a1695ab-2fef-4874-942b-c532e1072f57",
        "colab": {
          "base_uri": "https://localhost:8080/"
        }
      },
      "execution_count": 23,
      "outputs": [
        {
          "output_type": "execute_result",
          "data": {
            "text/plain": [
              "Somewhat                                1066\n",
              "Slightly                                 983\n",
              "Moderately                               684\n",
              "Not at all                               654\n",
              "Extremely                                405\n",
              "Missing data (Not Ascertained)            68\n",
              "Multiple responses selected in error       5\n",
              "Name: FreqWorryCancer, dtype: int64"
            ]
          },
          "metadata": {},
          "execution_count": 23
        }
      ]
    },
    {
      "cell_type": "markdown",
      "source": [
        "# Reflections\n",
        "Edit this code block to answer the following questions.\n",
        "\n",
        "**1. Was the original visualization that you reproduced from your brief useful for the data that were being represented? Why or why not? How could it have been improved?**\n",
        "\n",
        "\n",
        "\n",
        "**2. For the new visualization you created, what type of visualization did you choose and why did you choose that type?**\n",
        "\n",
        "\n",
        "\n",
        "**3. Were you able to understand the data you were working with based on the brief you chose? Were there any additional data you wish you had to enhance your analysis / visualization?**\n",
        "\n"
      ],
      "metadata": {
        "id": "07PL70A53VPO"
      }
    }
  ]
}